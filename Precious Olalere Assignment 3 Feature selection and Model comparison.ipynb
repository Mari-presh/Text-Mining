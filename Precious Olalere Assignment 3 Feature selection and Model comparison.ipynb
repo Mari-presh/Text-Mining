{
 "cells": [
  {
   "cell_type": "code",
   "execution_count": 2,
   "id": "3a2967c1",
   "metadata": {},
   "outputs": [
    {
     "data": {
      "text/plain": [
       "'C:\\\\Users\\\\Precious Olalere\\\\Documents\\\\IS 567 Text Mining'"
      ]
     },
     "execution_count": 2,
     "metadata": {},
     "output_type": "execute_result"
    }
   ],
   "source": [
    "import os\n",
    "os.getcwd()"
   ]
  },
  {
   "cell_type": "code",
   "execution_count": 3,
   "id": "ea616b22",
   "metadata": {},
   "outputs": [
    {
     "name": "stdout",
     "output_type": "stream",
     "text": [
      "Train set:  8066\n",
      "Test set:  2690\n"
     ]
    },
    {
     "data": {
      "text/html": [
       "<div>\n",
       "<style scoped>\n",
       "    .dataframe tbody tr th:only-of-type {\n",
       "        vertical-align: middle;\n",
       "    }\n",
       "\n",
       "    .dataframe tbody tr th {\n",
       "        vertical-align: top;\n",
       "    }\n",
       "\n",
       "    .dataframe thead th {\n",
       "        text-align: right;\n",
       "    }\n",
       "</style>\n",
       "<table border=\"1\" class=\"dataframe\">\n",
       "  <thead>\n",
       "    <tr style=\"text-align: right;\">\n",
       "      <th></th>\n",
       "      <th>rating</th>\n",
       "      <th>Unnamed: 1</th>\n",
       "      <th>uniqueID</th>\n",
       "      <th>drugName</th>\n",
       "      <th>condition</th>\n",
       "      <th>review</th>\n",
       "      <th>rating.1</th>\n",
       "      <th>date</th>\n",
       "      <th>usefulCount</th>\n",
       "    </tr>\n",
       "  </thead>\n",
       "  <tbody>\n",
       "    <tr>\n",
       "      <th>0</th>\n",
       "      <td>1</td>\n",
       "      <td>47336</td>\n",
       "      <td>232258</td>\n",
       "      <td>Belsomra</td>\n",
       "      <td>Insomnia</td>\n",
       "      <td>\"I started Belsomra 15mg about 3 wks ago. It h...</td>\n",
       "      <td>1</td>\n",
       "      <td>10-Jul-17</td>\n",
       "      <td>28</td>\n",
       "    </tr>\n",
       "    <tr>\n",
       "      <th>1</th>\n",
       "      <td>1</td>\n",
       "      <td>41429</td>\n",
       "      <td>31475</td>\n",
       "      <td>Miconazole</td>\n",
       "      <td>Vaginal Yeast Infection</td>\n",
       "      <td>\"Okay so I was having some symptoms of a yeast...</td>\n",
       "      <td>1</td>\n",
       "      <td>7-Jun-16</td>\n",
       "      <td>4</td>\n",
       "    </tr>\n",
       "    <tr>\n",
       "      <th>2</th>\n",
       "      <td>1</td>\n",
       "      <td>114929</td>\n",
       "      <td>15704</td>\n",
       "      <td>Ethinyl estradiol / norethindrone</td>\n",
       "      <td>Birth Control</td>\n",
       "      <td>\"I started taking the this pill and after a li...</td>\n",
       "      <td>1</td>\n",
       "      <td>20-Oct-16</td>\n",
       "      <td>11</td>\n",
       "    </tr>\n",
       "    <tr>\n",
       "      <th>3</th>\n",
       "      <td>1</td>\n",
       "      <td>109151</td>\n",
       "      <td>40272</td>\n",
       "      <td>Savella</td>\n",
       "      <td>ibromyalgia</td>\n",
       "      <td>\"Caused suicidal thoughts.\"</td>\n",
       "      <td>1</td>\n",
       "      <td>31-Aug-13</td>\n",
       "      <td>47</td>\n",
       "    </tr>\n",
       "    <tr>\n",
       "      <th>4</th>\n",
       "      <td>1</td>\n",
       "      <td>130901</td>\n",
       "      <td>48056</td>\n",
       "      <td>Cariprazine</td>\n",
       "      <td>Bipolar Disorde</td>\n",
       "      <td>\"Started taking it today, 1.5mg, hour later he...</td>\n",
       "      <td>1</td>\n",
       "      <td>8-Jul-16</td>\n",
       "      <td>11</td>\n",
       "    </tr>\n",
       "    <tr>\n",
       "      <th>5</th>\n",
       "      <td>1</td>\n",
       "      <td>68436</td>\n",
       "      <td>151573</td>\n",
       "      <td>Chantix</td>\n",
       "      <td>Smoking Cessation</td>\n",
       "      <td>\"Ok- I have tried many things to quit smoking ...</td>\n",
       "      <td>1</td>\n",
       "      <td>10-Oct-15</td>\n",
       "      <td>9</td>\n",
       "    </tr>\n",
       "    <tr>\n",
       "      <th>6</th>\n",
       "      <td>1</td>\n",
       "      <td>117117</td>\n",
       "      <td>209214</td>\n",
       "      <td>Pentazocine</td>\n",
       "      <td>Pain</td>\n",
       "      <td>\"Scary medicine given for migraine, sent home....</td>\n",
       "      <td>1</td>\n",
       "      <td>10-Jan-13</td>\n",
       "      <td>4</td>\n",
       "    </tr>\n",
       "    <tr>\n",
       "      <th>7</th>\n",
       "      <td>1</td>\n",
       "      <td>90372</td>\n",
       "      <td>124443</td>\n",
       "      <td>Skyla</td>\n",
       "      <td>Birth Control</td>\n",
       "      <td>\"I had the Skyla inserted Friday and removed i...</td>\n",
       "      <td>1</td>\n",
       "      <td>5-Oct-15</td>\n",
       "      <td>1</td>\n",
       "    </tr>\n",
       "    <tr>\n",
       "      <th>8</th>\n",
       "      <td>1</td>\n",
       "      <td>36845</td>\n",
       "      <td>54585</td>\n",
       "      <td>Bupropion / naltrexone</td>\n",
       "      <td>Obesity</td>\n",
       "      <td>\"I took it for five months every day , I did n...</td>\n",
       "      <td>1</td>\n",
       "      <td>30-May-17</td>\n",
       "      <td>0</td>\n",
       "    </tr>\n",
       "    <tr>\n",
       "      <th>9</th>\n",
       "      <td>1</td>\n",
       "      <td>155572</td>\n",
       "      <td>174444</td>\n",
       "      <td>Tiotropium</td>\n",
       "      <td>COPD, Maintenance</td>\n",
       "      <td>\"Was prescribed Spiriva when ill with bronchit...</td>\n",
       "      <td>1</td>\n",
       "      <td>26-Jun-15</td>\n",
       "      <td>77</td>\n",
       "    </tr>\n",
       "  </tbody>\n",
       "</table>\n",
       "</div>"
      ],
      "text/plain": [
       "   rating  Unnamed: 1  uniqueID                           drugName  \\\n",
       "0       1       47336    232258                           Belsomra   \n",
       "1       1       41429     31475                         Miconazole   \n",
       "2       1      114929     15704  Ethinyl estradiol / norethindrone   \n",
       "3       1      109151     40272                            Savella   \n",
       "4       1      130901     48056                        Cariprazine   \n",
       "5       1       68436    151573                            Chantix   \n",
       "6       1      117117    209214                        Pentazocine   \n",
       "7       1       90372    124443                              Skyla   \n",
       "8       1       36845     54585             Bupropion / naltrexone   \n",
       "9       1      155572    174444                         Tiotropium   \n",
       "\n",
       "                 condition                                             review  \\\n",
       "0                 Insomnia  \"I started Belsomra 15mg about 3 wks ago. It h...   \n",
       "1  Vaginal Yeast Infection  \"Okay so I was having some symptoms of a yeast...   \n",
       "2            Birth Control  \"I started taking the this pill and after a li...   \n",
       "3              ibromyalgia                        \"Caused suicidal thoughts.\"   \n",
       "4          Bipolar Disorde  \"Started taking it today, 1.5mg, hour later he...   \n",
       "5        Smoking Cessation  \"Ok- I have tried many things to quit smoking ...   \n",
       "6                     Pain  \"Scary medicine given for migraine, sent home....   \n",
       "7            Birth Control  \"I had the Skyla inserted Friday and removed i...   \n",
       "8                  Obesity  \"I took it for five months every day , I did n...   \n",
       "9        COPD, Maintenance  \"Was prescribed Spiriva when ill with bronchit...   \n",
       "\n",
       "   rating.1       date  usefulCount  \n",
       "0         1  10-Jul-17           28  \n",
       "1         1   7-Jun-16            4  \n",
       "2         1  20-Oct-16           11  \n",
       "3         1  31-Aug-13           47  \n",
       "4         1   8-Jul-16           11  \n",
       "5         1  10-Oct-15            9  \n",
       "6         1  10-Jan-13            4  \n",
       "7         1   5-Oct-15            1  \n",
       "8         1  30-May-17            0  \n",
       "9         1  26-Jun-15           77  "
      ]
     },
     "execution_count": 3,
     "metadata": {},
     "output_type": "execute_result"
    }
   ],
   "source": [
    "import pandas as pd\n",
    "#Task 1: Importing the train and test da\n",
    "#Listing the number of statements in the training set and the test set\n",
    "\n",
    "drug_train = pd.read_csv(\"drugs_train.csv\")\n",
    "drug_test = pd.read_csv(\"drugs_test.csv\")\n",
    "\n",
    "\n",
    "print (\"Train set: \",len(drug_train))\n",
    "print (\"Test set: \",len(drug_test))\n",
    "\n",
    "drug_train.head(10)"
   ]
  },
  {
   "cell_type": "code",
   "execution_count": 4,
   "id": "5fd64300",
   "metadata": {},
   "outputs": [
    {
     "data": {
      "text/html": [
       "<div>\n",
       "<style scoped>\n",
       "    .dataframe tbody tr th:only-of-type {\n",
       "        vertical-align: middle;\n",
       "    }\n",
       "\n",
       "    .dataframe tbody tr th {\n",
       "        vertical-align: top;\n",
       "    }\n",
       "\n",
       "    .dataframe thead th {\n",
       "        text-align: right;\n",
       "    }\n",
       "</style>\n",
       "<table border=\"1\" class=\"dataframe\">\n",
       "  <thead>\n",
       "    <tr style=\"text-align: right;\">\n",
       "      <th></th>\n",
       "      <th>rating</th>\n",
       "      <th>Unnamed: 1</th>\n",
       "      <th>uniqueID</th>\n",
       "      <th>drugName</th>\n",
       "      <th>condition</th>\n",
       "      <th>review</th>\n",
       "      <th>rating.1</th>\n",
       "      <th>date</th>\n",
       "      <th>usefulCount</th>\n",
       "    </tr>\n",
       "  </thead>\n",
       "  <tbody>\n",
       "    <tr>\n",
       "      <th>0</th>\n",
       "      <td>1</td>\n",
       "      <td>49726</td>\n",
       "      <td>80865</td>\n",
       "      <td>Delsym</td>\n",
       "      <td>Cough</td>\n",
       "      <td>\"Took this medicine at 7:00pm, recommended by ...</td>\n",
       "      <td>1</td>\n",
       "      <td>1-Feb-17</td>\n",
       "      <td>1</td>\n",
       "    </tr>\n",
       "    <tr>\n",
       "      <th>1</th>\n",
       "      <td>1</td>\n",
       "      <td>42716</td>\n",
       "      <td>29970</td>\n",
       "      <td>Klonopin</td>\n",
       "      <td>Bipolar Disorde</td>\n",
       "      <td>\"Horrible side effects.\"</td>\n",
       "      <td>1</td>\n",
       "      <td>19-Aug-16</td>\n",
       "      <td>11</td>\n",
       "    </tr>\n",
       "    <tr>\n",
       "      <th>2</th>\n",
       "      <td>1</td>\n",
       "      <td>45680</td>\n",
       "      <td>213832</td>\n",
       "      <td>Tioconazole</td>\n",
       "      <td>Vaginal Yeast Infection</td>\n",
       "      <td>\"They should really put a warning on the label...</td>\n",
       "      <td>1</td>\n",
       "      <td>21-Jan-17</td>\n",
       "      <td>15</td>\n",
       "    </tr>\n",
       "    <tr>\n",
       "      <th>3</th>\n",
       "      <td>1</td>\n",
       "      <td>50602</td>\n",
       "      <td>137036</td>\n",
       "      <td>Isotretinoin</td>\n",
       "      <td>Acne</td>\n",
       "      <td>\"I just started my Accutane today. My biggest ...</td>\n",
       "      <td>1</td>\n",
       "      <td>18-Jan-16</td>\n",
       "      <td>12</td>\n",
       "    </tr>\n",
       "    <tr>\n",
       "      <th>4</th>\n",
       "      <td>1</td>\n",
       "      <td>39804</td>\n",
       "      <td>97703</td>\n",
       "      <td>Simvastatin</td>\n",
       "      <td>High Cholesterol</td>\n",
       "      <td>\"Took simvastatin only once and had a bad case...</td>\n",
       "      <td>1</td>\n",
       "      <td>30-Dec-10</td>\n",
       "      <td>35</td>\n",
       "    </tr>\n",
       "    <tr>\n",
       "      <th>5</th>\n",
       "      <td>1</td>\n",
       "      <td>36577</td>\n",
       "      <td>107483</td>\n",
       "      <td>Implanon</td>\n",
       "      <td>Birth Control</td>\n",
       "      <td>\"I have Implanon since June 2010. You really d...</td>\n",
       "      <td>1</td>\n",
       "      <td>17-Mar-11</td>\n",
       "      <td>2</td>\n",
       "    </tr>\n",
       "    <tr>\n",
       "      <th>6</th>\n",
       "      <td>1</td>\n",
       "      <td>51437</td>\n",
       "      <td>42848</td>\n",
       "      <td>Xulane</td>\n",
       "      <td>Birth Control</td>\n",
       "      <td>\"This is horrible i never used to get cramps a...</td>\n",
       "      <td>1</td>\n",
       "      <td>13-Aug-16</td>\n",
       "      <td>5</td>\n",
       "    </tr>\n",
       "    <tr>\n",
       "      <th>7</th>\n",
       "      <td>1</td>\n",
       "      <td>52472</td>\n",
       "      <td>178140</td>\n",
       "      <td>Duloxetine</td>\n",
       "      <td>Depression</td>\n",
       "      <td>\"I was on Cymbalta for about 3 months.  I can&amp;...</td>\n",
       "      <td>1</td>\n",
       "      <td>15-Dec-10</td>\n",
       "      <td>13</td>\n",
       "    </tr>\n",
       "    <tr>\n",
       "      <th>8</th>\n",
       "      <td>1</td>\n",
       "      <td>3477</td>\n",
       "      <td>51231</td>\n",
       "      <td>Azithromycin</td>\n",
       "      <td>Chlamydia Infection</td>\n",
       "      <td>\"When I took this, I took it without food, and...</td>\n",
       "      <td>1</td>\n",
       "      <td>15-Nov-15</td>\n",
       "      <td>13</td>\n",
       "    </tr>\n",
       "    <tr>\n",
       "      <th>9</th>\n",
       "      <td>1</td>\n",
       "      <td>33953</td>\n",
       "      <td>32343</td>\n",
       "      <td>Lisinopril</td>\n",
       "      <td>Heart Attack</td>\n",
       "      <td>\"Having been taken to the hospital for an aryt...</td>\n",
       "      <td>1</td>\n",
       "      <td>15-Apr-16</td>\n",
       "      <td>13</td>\n",
       "    </tr>\n",
       "  </tbody>\n",
       "</table>\n",
       "</div>"
      ],
      "text/plain": [
       "   rating  Unnamed: 1  uniqueID      drugName                condition  \\\n",
       "0       1       49726     80865        Delsym                    Cough   \n",
       "1       1       42716     29970      Klonopin          Bipolar Disorde   \n",
       "2       1       45680    213832   Tioconazole  Vaginal Yeast Infection   \n",
       "3       1       50602    137036  Isotretinoin                     Acne   \n",
       "4       1       39804     97703   Simvastatin         High Cholesterol   \n",
       "5       1       36577    107483      Implanon            Birth Control   \n",
       "6       1       51437     42848        Xulane            Birth Control   \n",
       "7       1       52472    178140    Duloxetine               Depression   \n",
       "8       1        3477     51231  Azithromycin      Chlamydia Infection   \n",
       "9       1       33953     32343    Lisinopril             Heart Attack   \n",
       "\n",
       "                                              review  rating.1       date  \\\n",
       "0  \"Took this medicine at 7:00pm, recommended by ...         1   1-Feb-17   \n",
       "1                           \"Horrible side effects.\"         1  19-Aug-16   \n",
       "2  \"They should really put a warning on the label...         1  21-Jan-17   \n",
       "3  \"I just started my Accutane today. My biggest ...         1  18-Jan-16   \n",
       "4  \"Took simvastatin only once and had a bad case...         1  30-Dec-10   \n",
       "5  \"I have Implanon since June 2010. You really d...         1  17-Mar-11   \n",
       "6  \"This is horrible i never used to get cramps a...         1  13-Aug-16   \n",
       "7  \"I was on Cymbalta for about 3 months.  I can&...         1  15-Dec-10   \n",
       "8  \"When I took this, I took it without food, and...         1  15-Nov-15   \n",
       "9  \"Having been taken to the hospital for an aryt...         1  15-Apr-16   \n",
       "\n",
       "   usefulCount  \n",
       "0            1  \n",
       "1           11  \n",
       "2           15  \n",
       "3           12  \n",
       "4           35  \n",
       "5            2  \n",
       "6            5  \n",
       "7           13  \n",
       "8           13  \n",
       "9           13  "
      ]
     },
     "execution_count": 4,
     "metadata": {},
     "output_type": "execute_result"
    }
   ],
   "source": [
    "drug_test.head(10)"
   ]
  },
  {
   "cell_type": "code",
   "execution_count": 5,
   "id": "329635ad",
   "metadata": {},
   "outputs": [
    {
     "name": "stdout",
     "output_type": "stream",
     "text": [
      "   rating.1 three_way_rating\n",
      "0         1         negative\n",
      "1         1         negative\n",
      "2         1         negative\n",
      "3         1         negative\n",
      "4         1         negative\n",
      "   rating.1 three_way_rating\n",
      "0         1         negative\n",
      "1         1         negative\n",
      "2         1         negative\n",
      "3         1         negative\n",
      "4         1         negative\n"
     ]
    }
   ],
   "source": [
    "#Convert the ratings to negative, neutral, and positive to make it a three-way classification for later tasks\n",
    "\n",
    "#Group labels {1,2,3,4} -> negative, {5,6} -> neutral, {7,8,9,10} -> positive\n",
    "\n",
    "group_label = {\n",
    "    1: \"negative\",\n",
    "    2: \"negative\",\n",
    "    3: \"negative\",\n",
    "    4: \"negative\",\n",
    "    5: \"neutral\",\n",
    "    6: \"neutral\",\n",
    "    7: \"positive\",\n",
    "    8: \"positive\",\n",
    "    9: \"positive\",\n",
    "    10: \"positive\"\n",
    "}\n",
    "\n",
    "# Apply the mapping to both the training and test datasets\n",
    "drug_train[\"three_way_rating\"] = drug_train[\"rating.1\"].map(group_label)\n",
    "drug_test[\"three_way_rating\"] = drug_test[\"rating.1\"].map(group_label)\n",
    "print(drug_train[[\"rating.1\", \"three_way_rating\"]].head())\n",
    "print(drug_test[[\"rating.1\", \"three_way_rating\"]].head())\n"
   ]
  },
  {
   "cell_type": "code",
   "execution_count": 7,
   "id": "722d01f9",
   "metadata": {},
   "outputs": [],
   "source": [
    "# use original reviews for model building\n",
    "y_train = drug_train[\"three_way_rating\"]\n",
    "y_test = drug_test[\"three_way_rating\"]\n",
    "\n",
    "train_text = drug_train[\"review\"]\n",
    "test_text = drug_test[\"review\"]"
   ]
  },
  {
   "cell_type": "code",
   "execution_count": 8,
   "id": "038ae995",
   "metadata": {},
   "outputs": [
    {
     "name": "stdout",
     "output_type": "stream",
     "text": [
      "(8066, 15185) \n",
      "\n",
      "(2690, 15185) \n",
      "\n"
     ]
    }
   ],
   "source": [
    "#Extract unigrams from the review column in the training set. \n",
    "#Fit the unigrams to the review column in the training set and testing set. Note that we are using count-based features.\n",
    "\n",
    "from sklearn.feature_extraction.text import CountVectorizer\n",
    "\n",
    "# set the n-gram range\n",
    "vectorizer = CountVectorizer(ngram_range = (1,1))\n",
    "\n",
    "# create training data representation\n",
    "train_data_cv = vectorizer.fit_transform(train_text.values.astype('U'))\n",
    "print(train_data_cv.shape,\"\\n\") \n",
    "\n",
    "# create test data representation\n",
    "test_data_cv = vectorizer.transform(test_text.values.astype('U'))\n",
    "print(test_data_cv.shape,\"\\n\") \n",
    "\n"
   ]
  },
  {
   "cell_type": "code",
   "execution_count": 9,
   "id": "da2c208b",
   "metadata": {},
   "outputs": [],
   "source": [
    "# import relevant libraries\n",
    "from sklearn.naive_bayes import MultinomialNB\n",
    "from sklearn.metrics import accuracy_score, precision_score, recall_score, f1_score, roc_auc_score, auc\n",
    "from sklearn import preprocessing"
   ]
  },
  {
   "cell_type": "code",
   "execution_count": 11,
   "id": "51043173",
   "metadata": {},
   "outputs": [
    {
     "name": "stdout",
     "output_type": "stream",
     "text": [
      "Accuracy score:  0.7468401486988847\n",
      "Precision score:  0.7087006024284891\n",
      "Recall score:  0.7468401486988847\n",
      "F1 score:  0.7067929598142093\n"
     ]
    }
   ],
   "source": [
    "#Train a classifier using the Naive Bayes algorithm (MultinomialNB). \n",
    "#Run the model on the test set and report precision, recall, and F1 score (micro, macro, and weighted average) of the classifier.\n",
    "\n",
    "# build model on the training data\n",
    "naive_bayes = MultinomialNB()\n",
    "naive_bayes.fit(train_data_cv, y_train)\n",
    "predictions = naive_bayes.predict(test_data_cv)\n",
    "\n",
    "# average could be of 3 kinds = weighted, macro, micro\n",
    "print(\"Accuracy score: \", accuracy_score(y_test, predictions))\n",
    "print(\"Precision score: \", precision_score(y_test, predictions, average=\"weighted\"))\n",
    "print(\"Recall score: \", recall_score(y_test, predictions, average = \"weighted\"))\n",
    "print(\"F1 score: \", f1_score(y_test, predictions, average = \"weighted\"))\n"
   ]
  },
  {
   "cell_type": "code",
   "execution_count": 12,
   "id": "d3b902ce",
   "metadata": {},
   "outputs": [
    {
     "name": "stdout",
     "output_type": "stream",
     "text": [
      "Accuracy score:  0.7468401486988847\n",
      "Precision score:  0.7087006024284891\n",
      "Recall score:  0.7468401486988847\n",
      "F1 score:  0.7067929598142093\n"
     ]
    }
   ],
   "source": [
    "# weighted average \n",
    "print(\"Accuracy score: \", accuracy_score(y_test, predictions))\n",
    "print(\"Precision score: \", precision_score(y_test, predictions, average=\"weighted\"))\n",
    "print(\"Recall score: \", recall_score(y_test, predictions, average = \"weighted\"))\n",
    "print(\"F1 score: \", f1_score(y_test, predictions, average = \"weighted\"))"
   ]
  },
  {
   "cell_type": "code",
   "execution_count": 13,
   "id": "c666c8c1",
   "metadata": {},
   "outputs": [
    {
     "name": "stdout",
     "output_type": "stream",
     "text": [
      "Accuracy score:  0.7468401486988847\n",
      "Precision score:  0.6054844787106601\n",
      "Recall score:  0.49435712817038774\n",
      "F1 score:  0.49094076196831615\n"
     ]
    }
   ],
   "source": [
    "# macro average \n",
    "print(\"Accuracy score: \", accuracy_score(y_test, predictions))\n",
    "print(\"Precision score: \", precision_score(y_test, predictions, average=\"macro\"))\n",
    "print(\"Recall score: \", recall_score(y_test, predictions, average = \"macro\"))\n",
    "print(\"F1 score: \", f1_score(y_test, predictions, average = \"macro\"))\n"
   ]
  },
  {
   "cell_type": "code",
   "execution_count": 15,
   "id": "d50a53a2",
   "metadata": {},
   "outputs": [
    {
     "name": "stdout",
     "output_type": "stream",
     "text": [
      "Accuracy score:  0.7468401486988847\n",
      "Precision score:  0.7468401486988847\n",
      "Recall score:  0.7468401486988847\n",
      "F1 score:  0.7468401486988847\n"
     ]
    }
   ],
   "source": [
    "# micro average \n",
    "print(\"Accuracy score: \", accuracy_score(y_test, predictions))\n",
    "print(\"Precision score: \", precision_score(y_test, predictions, average=\"micro\"))\n",
    "print(\"Recall score: \", recall_score(y_test, predictions, average = \"micro\"))\n",
    "print(\"F1 score: \", f1_score(y_test, predictions, average = \"micro\"))"
   ]
  },
  {
   "cell_type": "code",
   "execution_count": 16,
   "id": "49bc71ba",
   "metadata": {},
   "outputs": [
    {
     "name": "stdout",
     "output_type": "stream",
     "text": [
      "Train feature space before filtering:  (8066, 15185)\n",
      "Train feature space after filtering:  (8066, 3945)\n",
      "Test feature space before filtering:  (2690, 15185)\n",
      "Test feature space after filtering:  (2690, 3945)\n"
     ]
    }
   ],
   "source": [
    "#Task 2: Remove features that have variance values below the thresholds 0.001 and 0.005, respectively.\n",
    "#low variance removal \n",
    "from sklearn.feature_selection import VarianceThreshold\n",
    "\n",
    "selector = VarianceThreshold(threshold = 0.001)\n",
    "\n",
    "X_train_features_filtered_var_thr = selector.fit(train_data_cv).transform(train_data_cv)\n",
    "print (\"Train feature space before filtering: \", train_data_cv.shape)\n",
    "print (\"Train feature space after filtering: \", X_train_features_filtered_var_thr.shape)\n",
    "\n",
    "X_test_features_filtered_var_thr = selector.transform(test_data_cv)\n",
    "print (\"Test feature space before filtering: \", test_data_cv.shape)\n",
    "print (\"Test feature space after filtering: \", X_test_features_filtered_var_thr.shape)"
   ]
  },
  {
   "cell_type": "code",
   "execution_count": 17,
   "id": "ae63db76",
   "metadata": {},
   "outputs": [
    {
     "name": "stdout",
     "output_type": "stream",
     "text": [
      "Train feature space before filtering:  (8066, 15185)\n",
      "Train feature space after filtering:  (8066, 1546)\n",
      "Test feature space before filtering:  (2690, 15185)\n",
      "Test feature space after filtering:  (2690, 1546)\n"
     ]
    }
   ],
   "source": [
    "#number 2 low variance removal for 0.005\n",
    "from sklearn.feature_selection import VarianceThreshold\n",
    "\n",
    "selector = VarianceThreshold(threshold = 0.005)\n",
    "\n",
    "X_train_features_filtered_var_thr_two = selector.fit(train_data_cv).transform(train_data_cv)\n",
    "print (\"Train feature space before filtering: \", train_data_cv.shape)\n",
    "print (\"Train feature space after filtering: \", X_train_features_filtered_var_thr_two.shape)\n",
    "\n",
    "X_test_features_filtered_var_thr_two = selector.transform(test_data_cv)\n",
    "print (\"Test feature space before filtering: \", test_data_cv.shape)\n",
    "print (\"Test feature space after filtering: \", X_test_features_filtered_var_thr_two.shape)"
   ]
  },
  {
   "cell_type": "code",
   "execution_count": 21,
   "id": "14519196",
   "metadata": {},
   "outputs": [
    {
     "name": "stdout",
     "output_type": "stream",
     "text": [
      "Accuracy score:  0.7211895910780669\n",
      "Precision score:  0.7027812906429134\n",
      "Recall score:  0.7211895910780669\n",
      "F1 score:  0.7110796473919929\n",
      "Accuracy score:  0.7211895910780669\n",
      "Precision score:  0.5352856004116763\n",
      "Recall score:  0.5282459212439216\n",
      "F1 score:  0.529086309432013\n",
      "Accuracy score:  0.7211895910780669\n",
      "Precision score:  0.7211895910780669\n",
      "Recall score:  0.7211895910780669\n",
      "F1 score:  0.7211895910780669\n"
     ]
    }
   ],
   "source": [
    "#repeat task 1 for task 2 (feature selection1)\n",
    "#training Naive Bayes on low variance of 0.001\n",
    "naive_bayes = MultinomialNB()\n",
    "naive_bayes.fit(X_train_features_filtered_var_thr, y_train)\n",
    "predictions = naive_bayes.predict(X_test_features_filtered_var_thr)\n",
    "\n",
    "# weighted average \n",
    "print(\"Accuracy score: \", accuracy_score(y_test, predictions))\n",
    "print(\"Precision score: \", precision_score(y_test, predictions, average=\"weighted\"))\n",
    "print(\"Recall score: \", recall_score(y_test, predictions, average = \"weighted\"))\n",
    "print(\"F1 score: \", f1_score(y_test, predictions, average = \"weighted\"))\n",
    "\n",
    "# macro average \n",
    "print(\"Accuracy score: \", accuracy_score(y_test, predictions))\n",
    "print(\"Precision score: \", precision_score(y_test, predictions, average=\"macro\"))\n",
    "print(\"Recall score: \", recall_score(y_test, predictions, average = \"macro\"))\n",
    "print(\"F1 score: \", f1_score(y_test, predictions, average = \"macro\"))\n",
    "\n",
    "\n",
    "#micro average \n",
    "print(\"Accuracy score: \", accuracy_score(y_test, predictions))\n",
    "print(\"Precision score: \", precision_score(y_test, predictions, average=\"micro\"))\n",
    "print(\"Recall score: \", recall_score(y_test, predictions, average = \"micro\"))\n",
    "print(\"F1 score: \", f1_score(y_test, predictions, average = \"micro\"))"
   ]
  },
  {
   "cell_type": "code",
   "execution_count": 22,
   "id": "36fcbff6",
   "metadata": {},
   "outputs": [
    {
     "name": "stdout",
     "output_type": "stream",
     "text": [
      "Accuracy score(weighted):  0.7011152416356877\n",
      "Precision score(weighted):  0.6963765085265881\n",
      "Recall score(weighted):  0.7011152416356877\n",
      "F1 score(weighted):  0.6986782488657574\n",
      "Accuracy score(macro):  0.7011152416356877\n",
      "Precision score(macro):  0.5269476278257468\n",
      "Recall score(macro):  0.5235315468171952\n",
      "F1 score(macro):  0.5251348961296606\n",
      "Accuracy score(micro):  0.7011152416356877\n",
      "Precision score(micro):  0.7011152416356877\n",
      "Recall score(micro):  0.7011152416356877\n",
      "F1 score(micro):  0.7011152416356877\n"
     ]
    }
   ],
   "source": [
    "#repeat task 1 for task 2 \n",
    "#training Naive Bayes on low variance of 0.005\n",
    "naive_bayes = MultinomialNB()\n",
    "naive_bayes.fit(X_train_features_filtered_var_thr_two, y_train)\n",
    "predictions = naive_bayes.predict(X_test_features_filtered_var_thr_two)\n",
    "\n",
    "# weighted average\n",
    "print(\"Accuracy score(weighted): \", accuracy_score(y_test, predictions))\n",
    "print(\"Precision score(weighted): \", precision_score(y_test, predictions, average=\"weighted\"))\n",
    "print(\"Recall score(weighted): \", recall_score(y_test, predictions, average = \"weighted\"))\n",
    "print(\"F1 score(weighted): \", f1_score(y_test, predictions, average = \"weighted\"))\n",
    "\n",
    "# macro average\n",
    "print(\"Accuracy score(macro): \", accuracy_score(y_test, predictions))\n",
    "print(\"Precision score(macro): \", precision_score(y_test, predictions, average=\"macro\"))\n",
    "print(\"Recall score(macro): \", recall_score(y_test, predictions, average = \"macro\"))\n",
    "print(\"F1 score(macro): \", f1_score(y_test, predictions, average = \"macro\"))\n",
    "\n",
    "# micro average\n",
    "print(\"Accuracy score(micro): \", accuracy_score(y_test, predictions))\n",
    "print(\"Precision score(micro): \", precision_score(y_test, predictions, average=\"micro\"))\n",
    "print(\"Recall score(micro): \", recall_score(y_test, predictions, average = \"micro\"))\n",
    "print(\"F1 score(micro): \", f1_score(y_test, predictions, average = \"micro\"))\n",
    "\n"
   ]
  },
  {
   "cell_type": "markdown",
   "id": "100eb42a",
   "metadata": {},
   "source": [
    "#Report how thresholds affect performance. \n",
    "\n",
    "The threshold performance for 0.001 reduced the features from 15185 to 3945 and the threshold of 0.005 even reduced the feature even more at 1546 features. \n",
    "\n",
    "#Discuss the relationship between the number of features after feature selection and the performance of the resulting model.\n",
    "\n",
    "The performance of the resulting model after the low variance removal definitely improved the model compared to when the model had a lot of features. \n"
   ]
  },
  {
   "cell_type": "code",
   "execution_count": 23,
   "id": "7d3e32cd",
   "metadata": {},
   "outputs": [
    {
     "name": "stdout",
     "output_type": "stream",
     "text": [
      "Train feature space before filtering:  (8066, 15185)\n",
      "Train feature space after filtering:  (8066, 1000)\n",
      "Test feature space before filtering:  (2690, 15185)\n",
      "Test feature space after filtering:  (2690, 1000)\n"
     ]
    }
   ],
   "source": [
    "#TASK 3\n",
    "#Calculate the “informativeness” of the original features using mutual information. \n",
    "#Select the top k features based on their informativeness values with k = 1000 and 2000. \n",
    "#feature selection with chi-squared statistics and k-best features \n",
    "\n",
    "from sklearn.feature_selection import SelectKBest, chi2\n",
    "\n",
    "selector = SelectKBest(chi2, k=1000)\n",
    "X_train_features_filtered_kbest = selector.fit_transform(train_data_cv, y_train)\n",
    "print (\"Train feature space before filtering: \", train_data_cv.shape)\n",
    "print (\"Train feature space after filtering: \", X_train_features_filtered_kbest.shape)\n",
    "\n",
    "X_test_features_filtered_kbest = selector.transform(test_data_cv)\n",
    "print (\"Test feature space before filtering: \", test_data_cv.shape)\n",
    "print (\"Test feature space after filtering: \", X_test_features_filtered_kbest.shape)"
   ]
  },
  {
   "cell_type": "code",
   "execution_count": 24,
   "id": "2eb5e55e",
   "metadata": {},
   "outputs": [
    {
     "name": "stdout",
     "output_type": "stream",
     "text": [
      "Train feature space before filtering:  (8066, 15185)\n",
      "Train feature space after filtering:  (8066, 2000)\n",
      "Test feature space before filtering:  (2690, 15185)\n",
      "Test feature space after filtering:  (2690, 2000)\n"
     ]
    }
   ],
   "source": [
    "# number 2:K features of 2000\n",
    "from sklearn.feature_selection import SelectKBest, chi2\n",
    "\n",
    "selector = SelectKBest(chi2, k=2000)\n",
    "X_train_features_filtered_kbest_two = selector.fit_transform(train_data_cv, y_train)\n",
    "print (\"Train feature space before filtering: \", train_data_cv.shape)\n",
    "print (\"Train feature space after filtering: \", X_train_features_filtered_kbest_two.shape)\n",
    "\n",
    "X_test_features_filtered_kbest_two = selector.transform(test_data_cv)\n",
    "print (\"Test feature space before filtering: \", test_data_cv.shape)\n",
    "print (\"Test feature space after filtering: \", X_test_features_filtered_kbest_two.shape)"
   ]
  },
  {
   "cell_type": "code",
   "execution_count": 25,
   "id": "d4537921",
   "metadata": {},
   "outputs": [
    {
     "name": "stdout",
     "output_type": "stream",
     "text": [
      "Accuracy score(weighted):  0.7271375464684015\n",
      "Precision score(weighted):  0.6872056125483135\n",
      "Recall score(weighted):  0.7271375464684015\n",
      "F1 score(weighted):  0.703364825303648\n",
      "Accuracy score(macro):  0.7271375464684015\n",
      "Precision score(macro):  0.5175340061617322\n",
      "Recall score(macro):  0.5043399176609452\n",
      "F1 score(macro):  0.5008649731210002\n",
      "Accuracy score(micro):  0.7271375464684015\n",
      "Precision score(micro):  0.7271375464684015\n",
      "Recall score(micro):  0.7271375464684015\n",
      "F1 score(micro):  0.7271375464684015\n"
     ]
    }
   ],
   "source": [
    "#repeating model building for task \n",
    "#repeat task 1 for task 3 (k-best feature)\n",
    "#training Naive Bayes on k-best feature 0f 1000\n",
    "naive_bayes = MultinomialNB()\n",
    "naive_bayes.fit(X_train_features_filtered_kbest, y_train)\n",
    "predictions = naive_bayes.predict(X_test_features_filtered_kbest)\n",
    "\n",
    "# weighted average\n",
    "print(\"Accuracy score(weighted): \", accuracy_score(y_test, predictions))\n",
    "print(\"Precision score(weighted): \", precision_score(y_test, predictions, average=\"weighted\"))\n",
    "print(\"Recall score(weighted): \", recall_score(y_test, predictions, average = \"weighted\"))\n",
    "print(\"F1 score(weighted): \", f1_score(y_test, predictions, average = \"weighted\"))\n",
    "\n",
    "# macro average\n",
    "print(\"Accuracy score(macro): \", accuracy_score(y_test, predictions))\n",
    "print(\"Precision score(macro): \", precision_score(y_test, predictions, average=\"macro\"))\n",
    "print(\"Recall score(macro): \", recall_score(y_test, predictions, average = \"macro\"))\n",
    "print(\"F1 score(macro): \", f1_score(y_test, predictions, average = \"macro\"))\n",
    "\n",
    "# micro average\n",
    "print(\"Accuracy score(micro): \", accuracy_score(y_test, predictions))\n",
    "print(\"Precision score(micro): \", precision_score(y_test, predictions, average=\"micro\"))\n",
    "print(\"Recall score(micro): \", recall_score(y_test, predictions, average = \"micro\"))\n",
    "print(\"F1 score(micro): \", f1_score(y_test, predictions, average = \"micro\"))\n",
    "\n"
   ]
  },
  {
   "cell_type": "code",
   "execution_count": 26,
   "id": "a2adffe0",
   "metadata": {},
   "outputs": [
    {
     "name": "stdout",
     "output_type": "stream",
     "text": [
      "Accuracy score(weighted):  0.7271375464684015\n",
      "Precision score(weighted):  0.6902360035756264\n",
      "Recall score(weighted):  0.7271375464684015\n",
      "F1 score(weighted):  0.7044584818449964\n",
      "Accuracy score(macro):  0.7271375464684015\n",
      "Precision score(macro):  0.5306166558598101\n",
      "Recall score(macro):  0.5078742508922481\n",
      "F1 score(macro):  0.507901482510225\n",
      "Accuracy score(micro):  0.7271375464684015\n",
      "Precision score(micro):  0.7271375464684015\n",
      "Recall score(micro):  0.7271375464684015\n",
      "F1 score(micro):  0.7271375464684015\n"
     ]
    }
   ],
   "source": [
    "#repeating model building for task \n",
    "#repeat task 1 for task 3 (k-best feature)\n",
    "#training Naive Bayes on k-best feature 0f 2000\n",
    "naive_bayes = MultinomialNB()\n",
    "naive_bayes.fit(X_train_features_filtered_kbest_two, y_train)\n",
    "predictions = naive_bayes.predict(X_test_features_filtered_kbest_two)\n",
    "\n",
    "# weighted average\n",
    "print(\"Accuracy score(weighted): \", accuracy_score(y_test, predictions))\n",
    "print(\"Precision score(weighted): \", precision_score(y_test, predictions, average=\"weighted\"))\n",
    "print(\"Recall score(weighted): \", recall_score(y_test, predictions, average = \"weighted\"))\n",
    "print(\"F1 score(weighted): \", f1_score(y_test, predictions, average = \"weighted\"))\n",
    "\n",
    "# macro average\n",
    "print(\"Accuracy score(macro): \", accuracy_score(y_test, predictions))\n",
    "print(\"Precision score(macro): \", precision_score(y_test, predictions, average=\"macro\"))\n",
    "print(\"Recall score(macro): \", recall_score(y_test, predictions, average = \"macro\"))\n",
    "print(\"F1 score(macro): \", f1_score(y_test, predictions, average = \"macro\"))\n",
    "\n",
    "# micro average\n",
    "print(\"Accuracy score(micro): \", accuracy_score(y_test, predictions))\n",
    "print(\"Precision score(micro): \", precision_score(y_test, predictions, average=\"micro\"))\n",
    "print(\"Recall score(micro): \", recall_score(y_test, predictions, average = \"micro\"))\n",
    "print(\"F1 score(micro): \", f1_score(y_test, predictions, average = \"micro\"))\n",
    "\n",
    "\n"
   ]
  },
  {
   "cell_type": "markdown",
   "id": "50751a5f",
   "metadata": {},
   "source": [
    "#Report how the k value affects performance. \n",
    "#Discuss the relationship between the number of features after feature selection and the performance of the resulting model.\n",
    "\n",
    "The features reduced based on the value of the k-value that was assigned to it, the informativeness value of 1000, reduced the feature to 1000 and the informativeness value of 2000 reduced the features to 2000. \n",
    "\n",
    "The k-value affected the performance of the model by reducing the accuracy, precision, recall and F1 score compared to the other models "
   ]
  },
  {
   "cell_type": "code",
   "execution_count": 27,
   "id": "1b97936d",
   "metadata": {},
   "outputs": [
    {
     "name": "stdout",
     "output_type": "stream",
     "text": [
      "words list: ['a+', 'abound', 'abounds', 'abundance', 'abundant', 'accessable', 'accessible', 'acclaim', 'acclaimed', 'acclamation']\n"
     ]
    }
   ],
   "source": [
    "##TASK 4(feature selection 3: Lexicon-based feature selection)\n",
    "# loading in the postive word list\n",
    "with open(\"positive_words_list.txt\", 'r') as f:\n",
    "    positive_words = [line.strip() for line in f]\n",
    "print(\"words list:\", positive_words[:10])\n"
   ]
  },
  {
   "cell_type": "code",
   "execution_count": 28,
   "id": "f72336ea",
   "metadata": {},
   "outputs": [
    {
     "name": "stdout",
     "output_type": "stream",
     "text": [
      "words list: ['2-faced', '2-faces', 'abnormal', 'abolish', 'abominable', 'abominably', 'abominate', 'abomination', 'abort', 'aborted']\n"
     ]
    }
   ],
   "source": [
    "# loading in the negative word list\n",
    "with open(\"negative_words_list.txt\", 'r') as f:\n",
    "    negative_words = [line.strip() for line in f]\n",
    "print(\"words list:\", negative_words[:10])\n"
   ]
  },
  {
   "cell_type": "code",
   "execution_count": 29,
   "id": "d4310551",
   "metadata": {},
   "outputs": [
    {
     "name": "stdout",
     "output_type": "stream",
     "text": [
      "lexicon list: {'flaky', 'friggin', 'cooperative', 'unwilling', 'spite', 'worried', 'self-respect', 'prohibitively', 'peaceful', 'frustrate', 'ignore', 'lapse', 'remorsefully', 'concerned', 'reverently', 'noises', 'fat', 'satisfactory', 'unfortunate', 'abyss', 'disintegrates', 'officious', 'disputable', 'fretful', 'masters', 'enlightenment', 'stupor', 'uproarious', 'phobic', 'kaput', 'diversified', 'tense', 'swift', 'exploitation', 'belie', 'protect', 'sprightly', 'propagandize', 'meager', 'degradation', 'prevaricate', 'astonishingly', 'unknown', 'nightmarishly', 'biases', 'cancerous', 'reform', 'slanderously', 'harshly', 'admiring', 'disadvantaged', 'regretful', 'luxuriously', 'blurred', 'inept', 'blistering', 'passionate', 'detraction', 'regal', 'asininely', 'criticizing', 'primitive', 'blunder', 'combative', 'wondrous', 'abnormal', 'jolly', 'temptingly', 'bruises', 'efficient', 'raptureously', 'scary', 'sagging', 'reckless', 'winning', 'scream', 'virulent', 'prosperous', 'superficial', 'swankiest', 'regressive', 'disgrace', 'intricate', 'struck', 'washed-out', 'boiling', 'irritate', 'precious', 'funnily', 'dead-on', 'high-spirited', 'timid', 'leak', 'rigidity', 'batty', 'aggressiveness', 'ho-hum', 'fabulous', 'scramble', 'goad', 'incendiary', 'elegantly', 'expensive', 'rejecting', 'unsteadiness', 'fortune', 'cornerstone', 'catastrophically', 'childish', 'realistic', 'snazzy', 'usable', 'shambles', 'admire', 'disses', 'grumpiest', 'sinisterly', 'implode', 'revolt', 'oddest', 'plaything', 'thro', 'humour', 'preferes', 'gracious', 'scratchy', 'offender', 'affluent', 'euphoric', 'striking', 'overwhelming', 'repulsing', 'bizarre', 'selective', 'vestiges', 'proves', 'tragically', 'bonkers', 'advocate', 'futilely', 'tingled', 'harm', 'appal', 'belligerent', 'insolvent', 'ire', 'payback', 'contend', 'immoderately', 'inconsistencies', 'stress', 'sugar-coat', 'dissatisfying', 'regretted', 'collapse', 'accusations', 'detract', 'bashed', 'downhearted', 'invincible', 'petrify', 'stalemate', 'indifference', 'irony', 'brash', 'shortsightedness', 'sickening', 'low-rated', 'soothe', 'murderous', 'violent', 'quicker', 'believable', 'jeering', 'slaves', 'aspersion', 'wildly', 'promoter', 'polite', 'direly', 'astound', 'ergonomical', 'blatantly', 'captivating', 'disgracefully', 'poverty', 'odd', 'superficiality', 'brand-new', 'retarded', 'precarious', 'critical', 'negligence', 'commendably', 'fragile', 'detriment', 'orderly', 'byzantine', 'rust', 'vengeance', 'ugliest', 'blossom', 'fortuitously', 'intuitive', 'spoilled', 'gangster', 'fails', 'thoughtlessness', 'sunken', 'bores', 'tragic', 'gloatingly', 'clash', 'ill-favored', 'anomalous', 'congratulation', 'clearer', 'smudging', 'rightful', 'sweetheart', 'despondent', 'untruthful', 'well-run', 'trustworthiness', 'enthral', 'genocide', 'momentous', 'mesmerizes', 'harridan', 'sticky', 'devil', 'whimper', 'heretic', 'fat-cat', 'assassin', 'senseless', 'revengefully', 'improbably', 'classic', 'manipulate', 'adulterated', 'casualty', 'puzzled', 'radically', 'wreaked', 'wins', 'disrepute', 'arrogant', 'ugh', 'drop-outs', 'complains', 'dubitable', 'notoriously', 'jumpy', 'acrimonious', 'illuminati', 'divisiveness', 'forlornly', 'over-hyped', 'furiously', 'touchy', 'issues', 'perplexity', 'ruining', 'servitude', 'tingling', 'perfect', 'conspire', 'undependable', 'hideously', 'criminal', 'overawe', 'sickness', 'better-known', 'brusque', 'failing', 'influential', 'pestilent', 'lavishly', 'shady', 'disaffirm', 'spiritless', 'inelegant', 'hopeful', 'razor-sharp', 'junk', 'tempt', 'quandary', 'lionhearted', 'quarrellous', 'mind-blowing', 'bully', 'trouble-free', 'inconsistent', 'nonexistent', 'accost', 'mulish', 'revenge', 'avaricious', 'siege', 'uninformed', 'peevishly', 'savvy', 'dreadfully', 'receptive', 'stupidity', 'uncontrolled', 'peeved', 'surpass', 'impede', 'issue-free', 'gumption', 'valor', 'threaten', 'slander', 'squash', 'shocked', 'hallucinate', 'preposterous', 'extraordinarily', 'bother', 'infringement', 'misrepresent', 'capriciousness', 'symptoms', 'lovely', 'dishearten', 'talents', 'two-faced', 'torture', 'fluster', 'senselessly', 'alarming', 'grumpy', 'gratification', 'despairing', 'heresy', 'spoonfed', 'tormented', 'divisive', 'tainted', 'wild', 'inane', 'belligerently', 'hestitant', 'lunaticism', 'unauthentic', 'demolisher', 'doubtfully', 'upgradable', 'cheap', 'relapse', 'stable', 'intimidate', 'rebuff', 'stinks', 'ugly', 'oblivious', 'figurehead', 'drunken', 'egotism', 'refuting', 'restrict', 'susceptible', 'unsettle', 'instigate', 'mischief', 'brashness', 'castigate', 'humble', 'prestige', 'faltered', 'injustices', 'inexperienced', 'disliking', 'impossiblity', 'astounding', 'defiantly', 'negate', 'mischievous', 'bloodshed', 'petty', 'austere', 'cheesy', 'productively', 'defiler', 'suavely', 'straighten', 'saint', 'mesmerizing', 'fanaticism', 'merriness', 'beset', 'jobless', 'agonizingly', 'amity', 'suspect', 'virtue', 'fateful', 'wonders', 'forbidding', 'inordinate', 'lucrative', 'drain', 'flakieness', 'annihilation', 'mangling', 'rivalry', 'courageously', 'fastidiously', 'impulsive', 'vilify', 'testy', 'ambitious', 'pout', 'picketing', 'extremist', 'overpayed', 'agility', 'deficiency', 'strenuous', 'pitiful', 'eminence', 'ambivalence', 'anomaly', 'heartless', 'triumphal', 'inconsequently', 'overshadow', 'deluge', 'disturbance', 'trivialize', 'won', 'audacity', 'desiccate', 'shortchange', 'cash-strapped', 'stridently', 'inflammation', 'sinister', 'gladly', 'exaggeration', 'supurbly', 'uplifting', 'free', 'deceitfully', 'conflicting', 'spook', 'regret', 'shamelessness', 'smear', 'illusion', 'prominence', 'aggrieved', 'smother', 'favorable', 'reaffirm', 'charismatic', 'merit', 'victimize', 'rusts', 'smitten', 'bias', 'dexterous', 'rock-stars', 'stuck', 'hypocrites', 'destitute', 'accessable', 'discourteously', 'omit', 'urgent', 'deaf', 'inconvenience', 'smouldering', 'cons', 'beggarly', 'fashionable', 'boost', 'kindness', 'freaks', 'distraughtly', 'dissident', 'stylish', 'confusing', 'endear', 'sufficient', 'joke', 'sharp', 'appreciatively', 'quarrelsome', 'confront', 'affinity', 'ingenuity', 'warmth', 'chaotic', 'unresolved', 'patriot', 'exhilaratingly', 'misguided', 'offending', 'misalign', 'harsh', 'advantageous', 'concise', 'beauteous', 'enraging', 'merciless', 'self-interested', 'improves', 'midget', 'seethe', 'unproductive', 'catchy', 'enjoyed', 'foremost', 'delusion', 'gratitude', 'rumors', 'turbulent', 'heroine', 'unseemly', 'adulterate', 'sagely', 'election-rigger', 'crisper', 'irrecoverablenesses', 'mortify', 'incongruously', 'presumptuous', 'ominous', 'simplistic', 'inequitable', 'scuff', 'mortifying', 'sarcastically', 'vigilant', 'gritty', 'instigator', 'intelligent', 'fearfully', 'intense', 'hallucination', 'warmhearted', 'simplified', 'hard-hit', 'whores', 'rival', 'downheartedly', 'showdown', 'mysteriously', 'trauma', 'dissocial', 'restricted', 'froze', 'improper', 'workable', 'master', '2-faces', 'fuzzy', 'feasible', 'negligent', 'oversights', 'entrancing', 'gauche', 'motionless', 'fraudulent', 'outshine', 'soreness', 'castrated', 'capitulate', 'irreplacible', 'torrent', 'difficulties', 'fracture', 'cancer', 'favor', 'stalls', 'unthinkable', 'dishonor', 'asinine', 'insufferable', 'insufficiently', 'startling', 'perfection', 'excitedness', 'rattle', 'reactionary', 'gibe', 'conflicted', 'scourge', 'indistinguishable', 'engulf', 'scaly', 'second-tier', 'ruthless', 'frightful', 'devastates', 'thrift', 'zippy', 'painfully', 'despicable', 'treasure', 'grieve', 'incompetently', 'wrongful', 'spoils', 'truthfulness', 'oddity', 'responsibly', 'stumps', 'rip', 'stains', 'limit', 'oversize', 'uncertain', 'underpowered', 'sub-par', 'equitable', 'manipulative', 'supports', 'hale', 'diligent', 'recovery', 'bombastic', 'inundate', 'hopelessly', 'fail', 'strangely', 'hallowed', 'hairloss', 'frolic', 'worth', 'incomplete', 'earnestly', 'heroic', 'pratfall', 'crooks', 'ineloquent', 'smooth', 'goon', 'excel', 'durable', 'bravo', 'feign', 'condescension', 'guile', 'haters', 'boundless', 'readable', 'miscreants', 'sincerely', 'repulse', 'honoring', 'well-backlit', 'hiss', 'clouding', 'righteously', 'arbitrary', 'accomplishments', 'gorgeously', 'sporty', 'abundance', 'inelegance', 'insensitively', 'bitterly', 'falsify', 'sag', 'irreversible', 'dusty', 'die', 'sarcasm', 'angry', 'uneasily', 'dodgey', 'prejudicial', 'wise', 'rocky', 'uproariously', 'incorrect', 'undamaged', 'comfortably', 'triumphant', 'loud', 'encouraging', 'limited', 'admonition', 'indiscreet', 'invalidate', 'wobble', 'useful', 'deceit', 'spoon-feed', 'atrocities', 'excellence', 'annoyingly', 'inadverent', 'languorous', 'misery', 'misinformed', 'unconvincingly', 'dispirited', 'sharper', 'besmirch', 'blurry', 'exorbitantance', 'enviously', 'reverence', 'desert', 'unkindly', 'brilliances', 'battering', 'worthless', 'nimble', 'diatribe', 'graciousness', 'seriousness', 'boring', 'pleased', 'sidetracked', 'hissing', 'bent', 'snarky', 'collusion', 'impulsively', 'virus', 'nosey', 'repudiation', 'drastically', 'woeful', 'wowing', 'pervasive', 'neatly', 'worthy', 'ghastly', 'fiction', 'leery', 'pig', 'bleeds', 'exaggerate', 'loss', 'affectation', 'hampered', 'irretrievable', 'sermonize', 'torturing', 'buggy', 'sensationally', 'punk', 'maladjusted', 'dumping', 'disapointing', 'lifeless', 'acerbic', 'ready', 'entice', 'smoldering', 'irredeemable', 'falsehood', 'capably', 'avenge', 'skillful', 'overlook', 'lambaste', 'onerous', 'scoff', 'scathing', 'blundering', 'god-send', 'break-up', 'instable', 'sneeringly', 'banish', 'admirer', 'wholesome', 'tingle', 'pugnacious', 'heretical', 'trivial', 'proven', 'donside', 'gimmicking', 'anti-proliferation', 'scarily', 'erosion', 'inconceivable', 'steadiness', 'daunt', 'terribleness', 'disregard', 'extort', 'steadiest', 'inexplainable', 'barbarically', 'lament', 'mediocre', 'suck', 'corrupted', 'secretive', 'douchbag', 'insincere', 'horrendous', 'obscures', 'obstructs', 'faithfully', 'relish', 'aching', 'caustically', 'haughtily', 'agony', 'moronic', 'implausible', 'achievement', 'humming', 'outrageous', 'guiltily', 'hysterics', 'butchery', 'celebrated', 'burdensomely', 'problem', 'infamy', 'dejected', 'monstrously', 'deluded', 'despondence', 'life-threatening', 'vibrantly', 'hot', 'tempest', 'obnoxious', 'suffice', 'high-quality', 'erroneous', 'gallant', 'intimidating', 'intrusive', 'discordance', 'ill-defined', 'vain', 'sourly', 'miscellaneous', 'defect', 'cruelties', 'rancor', 'blah', 'dismissively', 'unnervingly', 'obstruction', 'allergy', 'impedance', 'impractical', 'suspiciously', 'untrue', 'diss', 'scold', 'insecurity', 'led', 'faithful', 'beseech', 'tortures', 'slaughter', 'misses', 'hysteric', 'brisk', 'junky', 'fatalistically', 'indifferent', 'ebullient', 'confession', 'tricky', 'tenacity', 'outsmart', 'brightest', 'malady', 'exasperatingly', 'inconsistency', 'freeze', 'endorse', 'skilled', 'dizzy', 'angrily', 'counter-attacks', 'disingenuous', 'excite', 'fortuitous', 'backwoods', 'soft', 'spews', 'serenity', 'drowning', 'melodramatic', 'deplore', 'hug', 'ardent', 'cleverly', 'unsettlingly', 'whips', 'expired', 'remission', 'wreck', 'fertile', 'foe', 'bugs', 'mire', 'moron', 'impresses', 'attractive', 'irrationality', 'irretating', 'revulsion', 'heartening', 'conspiratorial', 'clueless', 'improperly', 'agreeably', 'merrily', 'squabble', 'hoodwink', 'imbecile', 'damaged', 'misconceptions', 'gaining', 'embolden', 'adored', 'meritorious', 'benevolent', 'curt', 'stabilize', 'zealously', 'infraction', 'steadfastness', 'embroiled', 'hedonistic', 'discouragement', 'enticed', 'isolated', 'troubled', 'mundane', 'convincing', 'unwelcome', 'antiquated', 'bleakly', 'somber', 'exquisitely', 'graceful', 'insane', 'cripples', 'relentlessly', 'dilemma', 'calamities', 'smell', 'likes', 'bastard', 'enchanting', 'cringed', 'firmer', 'satisfy', 'critics', 'paradoxical', 'lurking', 'astonishment', 'faults', 'confined', 'dropout', 'overtaken', 'attacks', 'zealot', 'transgression', 'incite', 'snobish', 'glut', 'imprudence', 'steals', 'hedge', 'jealousy', 'unethical', 'inapt', 'naive', 'convient', 'bothering', 'unfairly', 'hoax', 'addict', 'renounce', 'impure', 'impending', 'punish', 'traumatized', 'dilly-dally', 'jubilant', 'halfhearted', 'overrun', 'hung', 'frazzled', 'misleadingly', 'improving', 'tardy', 'depressing', 'brazenness', 'succeeded', 'illogic', 'marvelously', 'unfit', 'crash', 'disgraceful', 'anti-us', 'awesomely', 'felicitate', 'divergent', 'swankier', 'darken', 'leverage', 'imprecate', 'stuttered', 'troublesomely', 'upbraid', 'disagrees', 'malice', 'snobby', 'hard-working', 'modesty', 'inability', 'usurper', 'unreasonably', 'insinuating', 'antagonism', 'lawbreaker', 'aggression', 'lonely', 'turmoil', 'passive', 'immaculately', 'falsely', 'laudable', 'panoramic', 'unlawful', 'belittle', 'fraud', 'dissolution', 'insanity', 'richly', 'insular', 'implacable', 'bonus', 'fearful', 'emergency', 'roadblocks', 'fret', 'devilry', 'untouched', 'unwarranted', 'exacerbate', 'prudence', 'glimmer', 'dilapidated', 'sensitive', 'buoyant', 'bliss', 'refined', 'advantage', 'expulse', 'inglorious', 'superbly', 'startlingly', 'mocks', 'panicking', 'encouragingly', 'mesmerizingly', 'cramped', 'ridicule', 'disregardful', 'over-valuation', 'bitingly', 'neatest', 'delude', 'high-priced', 'flak', 'disparagingly', 'wastefulness', 'adorable', 'imposing', 'butcher', 'impurity', 'despairingly', 'extol', 'squeaky', 'masterpieces', 'fatalistic', 'low-price', 'seamless', 'panicky', 'procrastinates', 'delighted', 'posh', 'ironical', 'misbegotten', 'spiritual', 'flicker', 'decline', 'fine-looking', 'miracles', 'stupify', 'excited', 'paupers', 'snobbish', 'discouragingly', 'complacent', 'opposition', 'downturns', 'undetermined', 'bungler', 'brainy', 'adroitly', 'well-bred', 'interests', 'shrilly', 'ragged', 'unease', 'peeled', 'cleaner', 'appalled', 'disquietude', 'issue', 'lags', 'busts', 'ridiculous', 'incautious', 'perish', 'avalanche', 'joyously', 'fear', 'indeterminate', 'foolishness', 'fatty', 'bribery', 'slur', 'exemplary', 'delaying', 'ideal', 'ravage', 'little-known', 'stumbles', 'healthy', 'leakages', 'occluding', 'woo', 'condescending', 'slumpping', 'uncompromisingly', 'disturbed', 'effusive', 'sick', 'averse', 'shortage', 'discourteous', 'devastatingly', 'awfully', 'sparkle', 'tedious', 'weep', 'tumbles', 'stale', 'revolutionize', 'spoilage', 'fussy', 'haste', 'reject', 'drunkard', 'compact', 'garish', 'enrapture', 'hurtful', 'calamitously', 'benevolence', 'advanced', 'criticism', 'stupid', 'doomed', 'rife', 'veritable', 'offensiveness', 'rampant', 'shrivel', 'swindle', 'adversarial', 'obstinate', 'raging', 'amiss', 'reluctance', 'timidness', 'whiny', 'admiration', 'well-positioned', 'demonize', 'disoriented', 'hatred', 'rupture', 'cranky', 'ineptitude', 'disagreed', 'ill-designed', 'cruelty', 'heinous', 'insightful', 'genius', 'overbearingly', 'forged', 'brutalizing', 'unspeakablely', 'humourous', 'intolerance', 'fine', 'contamination', 'dick', 'glow', 'mobster', 'overjoyed', 'tremendously', 'tout', 'effusively', 'inoperable', 'weaknesses', 'enflame', 'excessively', 'fi', 'hospitable', 'cave', 'distressed', 'trusting', 'amicable', 'scoldingly', 'fastuous', 'screech', 'tortuous', 'shabby', 'assault', 'utterly', 'egregiously', 'preeminent', 'atrocious', 'fulfillment', 'abuses', 'distinctive', 'haphazard', 'longing', 'enticingly', 'booming', 'sporadic', 'disloyal', 'stingingly', 'villainous', 'squeal', 'cringes', 'scowl', 'insinuate', 'lush', 'success', 'insincerity', 'enrich', 'over-priced', 'destroyer', 'enviousness', 'marveled', 'lascivious', 'irascible', 'apologists', 'quiet', 'undesirable', 'pointless', 'dropouts', 'deny', 'overstatements', 'dissonance', 'haywire', 'intermittent', 'instantly', 'pleasant', 'vomited', 'coward', 'craps', 'disappointed', 'violation', 'advantageously', 'denial', 'cataclysmal', 'incommensurate', 'combust', 'renewed', 'coherence', 'discouraging', 'incoherent', 'interferes', 'well-wishers', 'suspicious', 'resplendent', 'unsatisfactory', 'admirable', 'rascals', 'overzealous', 'injury', 'profanity', 'dizzing', 'continuity', 'splendid', 'sidetrack', 'patient', 'reprehensive', 'pandering', 'alluringly', 'bum', 'boggle', 'flaking', 'overemphasize', 'unjustly', 'openness', 'stinging', 'niggles', 'invaluablely', 'peacefully', 'warlike', 'salutary', 'glaringly', 'affordable', 'fatcats', 'severe', 'writhe', 'weakening', 'pugnaciously', 'boil', 'unwatchable', 'delicacy', 'ploy', 'deficiencies', 'hazy', 'gifted', 'grieving', 'sumptuousness', 'anxious', 'gravely', 'assurances', 'simplistically', 'togetherness', 'stereotypical', 'deadweight', 'bulky', 'decrepitude', 'lecher', 'loveliness', 'antagonist', 'contortions', 'improvements', 'bedlamite', 'miscalculate', 'avid', 'problematic', 'disbelieve', 'thwart', 'lame-duck', 'ingenious', 'caricature', 'babble', 'slow-moving', 'worse', 'viewable', 'inhospitable', 'vengeful', 'snags', 'bust', 'bemoaning', 'mangled', 'hostilities', 'strangle', 'grotesque', 'state-of-the-art', 'brainiest', 'detested', 'retreated', 'satisfactorily', 'displace', 'miserableness', 'dented', 'disappoints', 'lapsed', 'sagacity', 'insults', 'morons', 'scariest', 'sno', 'deceitfulness', 'stagnant', 'refund', 'glistening', 'weary', 'greasy', 'crushing', 'dirtbags', 'subvert', 'despot', 'glee', 'wrinkled', 'freaking', 'hardheaded', 'winners', 'reassurance', 'victory', 'eases', 'extoll', 'adequate', 'cruelest', 'disgust', 'deplete', 'distraction', 'appreciated', 'finer', 'positives', 'fatigued', 'horde', 'disclaim', 'misdirection', 'regress', 'messing', 'inflammatory', 'smuttier', 'irreproachable', 'overtook', 'harboring', 'quarrels', 'modest', 'greatness', 'impatience', 'empower', 'irritable', 'extraordinary', 'spotless', 'upgraded', 'shiny', 'jealously', 'malignant', 'mawkish', 'offensively', 'smokescreen', 'spurious', 'fallout', 'cure-all', 'friendly', 'self-satisfaction', 'powerful', 'frown', 'hottest', 'heckled', 'staid', 'defeats', 'sublime', 'ostracize', 'pretend', 'lucidly', 'speedily', 'dictatorial', 'cohere', 'spoon-fed', 'sweetly', 'maliciousness', 'untimely', 'degeneration', 'jealousness', 'disconcerted', 'defiance', 'luxurious', 'declining', 'knave', 'loose', 'repetitive', 'gainsay', 'maltreatment', 'unwise', 'rusty', 'wonderful', 'deterrent', 'subservience', 'hysterically', 'misapprehend', 'permissible', 'macabre', 'poeticize', 'bowdlerize', 'shame', 'obtuse', 'patiently', 'thoughtfulness', 'well-established', 'scarcely', 'hotheaded', 'cheat', 'cowardly', 'easy-to-use', 'prideful', 'appeal', 'invaluable', 'chatterbox', 'trusted', 'bolster', 'tragedy', 'mystify', 'laud', 'flareups', 'unaccessible', 'gawk', 'aggravate', 'lukewarm', 'logical', 'risky', 'manipulation', 'slanderer', 'stampede', 'peace', 'dastardly', 'unsettling', 'dissidents', 'impeccably', 'musty', 'amazed', 'mar', 'liked', 'amazes', 'hegemony', 'delinquency', 'tumble', 'overpower', 'sufferers', 'dishonest', 'rational', 'amusingly', 'miserable', 'unjustifiably', 'imperfection', 'overwhelmingly', 'disapointment', 'reprehensible', 'safe', 'fast-paced', 'creaks', 'short-lived', 'lowly', 'affability', 'tenuously', 'unruly', 'foolishly', 'downbeat', 'flaw', 'boycott', 'assassinate', 'reprimand', 'genuine', 'sorrowfully', 'spew', 'polarisation', 'infallibility', 'swipe', 'sadden', 'fidelity', 'regretfully', 'satisfied', 'clunky', 'puppet', 'imprudent', 'angel', 'harassment', 'rebuke', 'vigilance', 'insurmountable', 'acclamation', 'ebulliently', 'envious', 'overwhelms', 'condemnation', 'afordable', 'affable', 'painlessly', 'nepotism', 'insociable', 'tarnishes', 'assail', 'posturing', 'domineer', 'outcast', 'best-performing', 'delightfully', 'unnerved', 'verifiable', 'villify', 'gimmicky', 'matchless', 'obscene', 'scathingly', 'unsecure', 'trapped', 'effusion', 'pretentious', 'dissuade', 'unlucky', 'degenerately', 'prik', 'vex', 'expire', 'consummate', 'fumble', 'unintelligible', 'revival', 'admiringly', 'mistified', 'pinnacle', 'comprehensive', 'refresh', 'allege', 'fearless', 'skeletons', 'hallmarks', 'gallingly', 'itchy', 'vexing', 'knowledgeable', 'acrid', 'well-made', 'prospros', 'gruff', 'inconsistence', 'eccentricity', 'graft', 'rant', 'god-awful', 'geezer', 'impetuously', 'perseverance', 'curse', 'jittery', 'unsupportive', 'unproven', 'flickers', 'properly', 'prick', 'complication', 'knife', 'invigorating', 'ruffle', 'painfull', 'rejuvenated', 'uncaring', 'smoothly', 'exceptionally', 'eventful', 'gorgeous', 'healthful', 'hang', 'underlings', 'unlawfulness', 'infirm', 'jolt', 'credence', 'puzzling', 'virulently', 'appalling', 'cleanest', 'skittishly', 'disrespectfully', 'timely', 'iniquity', 'astutely', 'impeach', 'uncivilized', 'thrilled', 'blunders', 'flaws', 'partisans', 'dead-cheap', 'deficient', 'sap', 'penalty', 'wonderously', 'misrepresentation', 'demeaning', 'agonies', 'smelled', 'jubiliant', 'precipitate', 'blind', 'jutters', 'insupportably', 'agreeableness', 'rapture', 'obsessiveness', 'acclaim', 'diatribes', 'confused', 'enviable', 'economical', 'splendidly', 'dashing', 'tenderly', 'exorbitant', 'lighter', 'absurdly', 'catastrophe', 'gladness', 'outstrip', 'splitting', 'affront', 'devout', 'damnably', 'infuriated', 'delight', 'restored', 'light-hearted', 'hubris', 'breakthrough', 'darkness', 'irrational', 'plot', 'evils', 'dishonesty', 'brittle', 'wellbeing', 'horrified', 'brighter', 'burdensome', 'declines', 'ruthlessness', 'condescend', 'disvalue', 'strong', 'shimmy', 'nauseatingly', 'defy', 'erratically', 'acclaimed', 'succeeding', 'oppressive', 'leer', 'clogs', 'revelation', 'expropriation', 'immaterial', 'infuriating', 'detrimental', 'distract', 'insurrection', 'scandalize', 'wieldy', 'overtaking', 'debatable', 'hated', 'exuberant', 'disintegrated', 'womanizing', 'explosive', 'improbable', 'grand', 'chilly', 'drawbacks', 'pains', 'lower-priced', 'smallish', 'flagging', 'affliction', 'resurgent', 'disgraced', 'wickedness', 'afflictive', 'extravagance', 'bicker', 'blurring', 'futuristic', 'famished', 'smoulder', 'rankle', 'brutish', 'pernicious', 'commotions', 'unsure', 'invidious', 'prejudices', 'treacherously', 'succum', 'debaser', 'growl', 'ambivalent', 'volatile', 'deviously', 'implausibly', 'precise', 'unusably', 'viper', 'pleasingly', 'dum', 'stump', 'irrelevant', 'scared', 'generous', 'stumble', 'gratifies', 'adroit', 'infiltrators', 'boredom', 'self-criticism', 'sweeping', 'pessimism', 'impaired', 'enraged', 'beauty', 'awestruck', 'choppy', 'defamations', 'slashing', 'defiant', 'exhilaration', 'fresher', 'authentic', 'exalting', 'impressiveness', 'procrastination', 'bland', 'trust', 'doubt', 'vivid', 'bunk', 'hum', 'dupe', 'insignificant', 'uneasiness', 'sensations', 'mislike', 'detesting', 'vibrate', 'gems', 'insufferably', 'loathly', 'revert', 'intimate', 'wealthy', 'slowww', 'breaking', 'compulsive', 'wariness', 'galore', 'outmoded', 'prefered', 'radical', 'punitive', 'spookiest', 'supreme', 'ripoff', 'humorous', 'viciousness', 'succeed', 'derisiveness', 'humiliate', 'dawdle', 'flake', 'timidity', 'cutthroat', 'spiteful', 'havoc', 'misleading', 'licentious', 'tank', 'unforgiving', 'contrariness', 'mournfully', 'scum', 'jubilantly', 'superior', 'hindrance', 'enervate', 'well-managed', 'subsidized', 'thrill', 'tepid', 'enchant', 'hardships', 'rollercoaster', 'sorrowful', 'err-free', 'suppress', 'weakness', 'arrogance', 'grudging', 'outwit', 'sensationalize', 'transgress', 'overturn', 'unmoved', 'detachable', 'deceitful', 'plebeian', 'inhumanity', 'inescapable', 'diappointed', 'lamentable', 'soundness', 'congestion', 'conspiracy', 'appreciable', 'degrading', 'inappropriately', 'persevere', 'thug', 'slanderous', 'calmness', 'impartially', 'unipolar', 'works', 'faith', 'unjust', 'undependability', 'idolized', 'exhilarating', 'slower', 'useless', 'daring', 'darker', 'indolent', 'apprehensive', 'inexorably', 'visionary', 'torturous', 'creep', 'considerate', 'anarchism', 'impolitely', 'ironies', 'righten', 'mirage', 'embarrassing', 'aver', 'dominate', 'radicalization', 'slanders', 'liberate', 'well-mannered', 'eminent', 'humor', 'ill-treated', 'unabashed', 'misinform', 'ill-used', 'affection', 'subjected', 'enthusiast', 'retaliatory', 'user-friendly', 'alarm', 'contrasty', 'irregularity', 'refutes', 'dismay', 'scandalous', 'convincingly', 'danken', 'vibrated', 'sinful', 'wobbled', 'ineloquently', 'pluses', 'noteworthy', 'fevers', 'discontentedly', 'sta', 'self-determination', 'idyllic', 'fantastic', 'disputed', 'disgruntled', 'propaganda', 'like', 'irreformable', 'mortified', 'cost-saving', 'nasty', 'inadequacy', 'scratch', 'pepped', 'dirty', 'triumph', 'evil', 'galling', 'admirably', 'straining', 'futile', 'scornful', 'inspiring', 'scarce', 'cheerful', 'disgusting', 'poor', 'sufficed', 'lose', 'elate', 'consternation', 'scandel', 'breeze', 'gem', 'bulkyness', 'brood', 'noise', 'flirt', 'trophy', 'admonisher', 'downfall', 'nagging', 'lovable', 'crashed', 'fresh', 'cold', 'unbearable', 'corrupt', 'monotonous', 'revoltingly', 'ominously', 'lapses', 'gullible', 'decency', 'wearisome', 'exuberantly', 'betrayal', 'audaciousness', 'atrocity', 'pathetic', 'affluence', 'passionately', 'clear-cut', 'careless', 'derision', 'repressive', 'abound', 'reluctant', 'filthy', 'inconsolably', 'frenetic', 'bewildered', 'proficient', 'overthrow', 'warmer', 'pitilessly', 'warning', 'piety', 'hinder', 'flighty', 'thrive', 'adulterier', 'unrivaled', 'accusingly', 'enraptured', 'noisier', 'traumatize', 'misunderstanding', 'worked', 'anxiously', 'false', 'harmful', 'fluent', 'slog', 'foulness', 'youthful', 'falter', 'coupists', 'arrogantly', 'irredeemably', 'multi-purpose', 'unscrupulously', 'riled', 'ebullience', 'pales', 'thoughtlessly', 'dissatisfies', 'exellent', 'cunt', 'feat', 'unfriendly', 'loopholes', 'proud', 'restful', 'annoying', 'suffices', 'expel', 'frustrated', 'ambush', 'agreeable', 'joyous', 'fudge', 'lie', 'luckier', 'chivalrous', 'concen', 'clique', 'err', 'miraculously', 'muscle-flexing', 'absurd', 'undissolved', 'wow', 'distrust', 'inaccurate', 'addicts', 'precisely', 'fractiously', 'decayed', 'gutless', 'seedy', 'pain', 'approval', 'illegal', 'breathlessness', 'frets', 'neurotically', 'obese', 'enthrall', 'died', 'fun', 'kook', 'counterproductive', 'bane', 'aspersions', 'courageousness', 'dragging', 'intransigent', 'softer', 'worn', 'lier', 'disagree', 'bewitch', 'allergies', 'overzelous', 'counter-productive', 'fondly', 'vibrating', 'disastrous', 'draining', 'mistrustful', 'uglier', 'slowwww', 'realizable', 'nag', 'disconcertingly', 'sues', 'humorously', 'lacking', 'warned', 'indigent', 'grapple', 'funny', 'oppressiveness', 'liking', 'bump', 'apprehensively', 'bombard', 'maturely', 'quack', 'undone', 'weed', 'bs', 'achievements', 'eloquent', 'uproarous', 'aggrivation', 'protection', 'tattered', 'enthralled', 'recklessly', 'misfortune', 'dispiriting', 'horrify', 'battered', 'criticisms', 'fatique', 'abounds', 'preoccupy', 'underpaid', 'spoilages', 'unlikely', 'defensive', 'orphan', 'degrade', 'tyrannical', 'enjoy', 'resent', 'illuminate', 'dogmatic', 'godsend', 'negative', 'hurts', 'enchanted', 'painful', 'energy-efficient', 'chic', 'user-replaceable', 'pauper', 'ail', 'ruinous', 'invective', 'fav', 'unfortunately', 'banal', 'stuffy', 'aborts', 'sued', 'faster', 'paradoxically', 'afflict', 'hotcakes', 'teasingly', 'complaints', 'lesser-known', 'finely', 'malodorous', 'cynical', 'disapointed', 'benefit', 'crumples', 'nervousness', 'unproving', 'ill-treatment', 'persecute', 'toxic', 'dud', 'intefere', 'desolate', 'lewdness', 'vindictive', 'brutalize', 'harass', 'unfavorable', 'tranquility', 'hardball', 'euphorically', 'faulty', 'exagerated', 'jerk', 'condescendingly', 'sue', 'unbiased', 'adulate', 'overreach', 'astoundingly', 'prompt', 'relief', 'naively', 'venerate', 'victorious', 'regrettably', 'exhilarate', 'defeating', 'tin-y', 'impious', 'peculiar', 'fiend', 'lost', 'appropriate', 'backwardness', 'calumniously', 'elegance', 'unlimited', 'jealous', 'praising', 'boisterous', 'disapprobation', 'sedentary', 'overture', 'antagonize', 'timidly', 'enrage', 'ultra-hardline', 'stricken', 'sincere', 'vicious', 'direness', 'perfunctory', 'intrude', 'condemned', 'rattles', 'flairs', 'grossly', 'adventurous', 'qualm', 'criticize', 'illuminating', 'hostility', 'steep', 'dehumanize', 'malcontented', 'bashing', 'coolest', 'womanizer', 'inconsequential', 'detracts', 'rumple', 'cheapest', 'apathetic', 'imaginary', 'disaffect', 'unrest', 'exile', 'lone', 'slug', 'impatient', 'sabotage', 'grief', 'audiciously', 'suppression', 'grievous', 'catastrophic', 'meltdown', 'whining', 'thank', 'zaps', 'sustainable', 'odor', 'cuplrit', 'incorrectly', 'harried', 'ilu', 'dissidence', 'pointlessly', 'occludes', 'vibration', 'revulsive', 'obsolete', 'pittance', 'feature-rich', 'ultimatums', 'sneer', 'grouch', 'awkward', 'effectively', 'satisfies', 'frugal', 'toll-free', 'overloaded', 'hardship', 'prodigious', 'first-class', 'discordant', 'shiver', 'helpless', 'bountiful', 'amazement', 'sloppy', 'sorely', 'inclement', 'losers', 'resourcefulness', 'misunderstandings', 'wreaks', 'laughingstock', 'head-aches', 'flawless', 'disorganized', 'pervert', 'scant', 'breach', 'set-up', 'strictly', 'upheld', 'abolish', 'frigging', 'afraid', 'splatter', 'split', 'taint', 'wimpy', 'outperforms', 'traitorously', 'bloom', 'impoverished', 'enmity', 'queer', 'suffer', 'troublemaker', 'discredit', 'impeccable', 'idolize', 'regrets', 'fist', 'blameless', 'wedge', 'forlorn', 'measly', 'poised', 'diffidence', 'appreciate', 'tetchy', 'infamous', 'steady', 'awful', 'traction', 'richer', 'lacked', 'endorsed', 'delays', 'unbelievable', 'outrage', 'indebted', 'polluter', 'wayward', 'garbage', 'spooky', 'inexpensive', 'viciously', 'trump', 'gutter', 'unlawfully', 'ftw', 'truthfully', 'cataclysmic', 'dignity', 'repression', 'exceeded', 'indiscretion', 'vent', 'cleared', 'thumbs-down', 'stupendously', 'virtuous', 'preferring', 'stimulates', 'warp', 'inflexible', 'deadbeat', 'protesting', 'instability', 'freezes', 'grumpily', 'poky', 'perplex', 'hellion', 'corruptted', 'exhausts', 'anti-', 'maturity', 'disagreement', 'loveless', 'madly', 'worries', 'enthusiasm', 'refreshed', 'adulatory', 'misbecome', 'racy', 'infallibly', 'crowded', 'imprison', 'stun', 'regard', 'mistake', 'overbearing', 'procrastinate', 'excuses', 'steal', 'reprovingly', 'perverted', 'distur', 'whine', 'deft', 'recommend', 'misgivings', 'downer', 'subjugate', 'insanely', 'ranting', 'seething', 'non-violence', 'venom', 'anguish', 'geekier', 'abrade', 'well-intentioned', 'irrecoverableness', 'flagrant', 'depravedly', 'stiffness', 'joyful', 'eviscerate', 'diabolic', 'embroil', 'irrecoverably', 'stubbornness', 'uncouth', 'blather', 'discrimination', 'deprive', 'preferable', 'louder', 'disdained', 'touted', 'mangle', 'broken-hearted', 'deride', 'mocking', 'supporter', 'scarred', 'respite', 'qualified', 'cackle', 'submissive', 'grumpier', 'misreading', 'draconian', 'lackluster', 'expunge', 'hater', 'endorsing', 'brotherly', 'hooray', 'sharpest', 'sturdy', 'hardliners', 'pry', 'unsustainable', 'confound', 'felonious', 'jabber', 'rigidness', 'worst', 'deviate', 'crisis', 'flexibility', 'impenitent', 'chastisement', 'denying', 'rejected', 'shallow', 'quitter', 'exaltedly', 'opportunistic', 'rip-off', 'traumatically', 'unattractive', 'non-confidence', 'slammin', 'tramp', 'hothouse', 'fastidious', 'favored', 'laughable', 'kindly', 'evaluative', 'antithetical', 'handy', 'prodigiously', 'kill', 'uproarously', 'infections', 'worrier', 'confessions', 'ludicrous', 'rightness', 'cruelness', 'well-being', 'slime', 'thankful', 'dominates', 'reforming', 'craze', 'inequalities', 'straggle', 'enemy', 'cronyism', 'jeeringly', 'morbidly', 'skulk', 'gracefully', 'glibly', 'spontaneous', 'harmony', 'stigma', 'nuisance', 'calumnies', 'outburst', 'inessential', 'pinch', 'paradise', 'inactive', 'bungle', 'misguide', 'contemptuously', 'meddle', 'watered-down', 'picturesque', 'exhausted', 'underdog', 'dissatisfactory', 'thoughtfully', 'thrilling', 'liberty', 'peacekeepers', 'better-than-expected', 'catastrophes', 'impressively', 'gape', 'obstruct', 'selfishness', 'well-regarded', 'streaky', 'crafty', 'stability', 'dimmer', 'enthusiastically', 'breakups', 'water-down', 'notoriety', 'ached', 'slump', 'concession', 'staunch', 'spotty', 'pampered', 'stealing', 'upseting', 'handsomely', 'trusty', 'complicated', 'steadfast', 'eagerness', 'inexperience', 'distraught', 'partisan', 'danke', 'wisdom', 'uplift', 'barbaric', 'gold', 'expansive', 'commitment', 'freezing', 'flat-out', 'blameworthy', 'suffocate', 'unnerve', 'disapprove', 'mightily', 'refused', 'generously', 'constructive', 'outdo', 'shortness', 'raked', 'interference', 'stately', 'horrible', 'debt', 'badly', 'rape', 'tantrum', 'swiftness', 'energize', 'hassle', 'reputation', 'extremists', 'tension', 'haughty', 'inefficiency', 'crumpled', 'chagrin', 'mispronounces', 'inestimable', 'beutifully', 'dedicated', 'hype', 'stammer', 'unsophisticated', 'civilize', 'deceivers', 'witty', 'supple', 'disintegration', 'incomparable', 'ingeniously', 'lamentably', 'sardonic', 'brazen', 'stylishly', 'bulkier', 'gibber', 'deteriorating', 'breakdown', 'debauchery', 'splendor', 'starkly', 'farcical-yet-provocative', 'disappointing', 'erase', 'seasoned', 'slogs', 'charming', 'brat', 'puppets', 'titillate', 'drains', 'beckoning', 'lover', 'amiable', 'gainfully', 'enfeeble', 'cliche', 'get-rich', 'defame', 'heartbreaker', 'vomits', 'futurestic', 'breathtaking', 'ill-mannered', 'repugnance', 'laggy', 'jeopardy', 'demoralize', 'alienate', 'magnanimous', 'disruptive', 'cruelly', 'vehement', 'romanticize', 'hogs', 'importune', 'insufficiency', 'felon', 'fierce', 'dissappointed', 'desolation', 'joy', 'impressed', 'smutty', 'snare', 'trashy', 'scummy', 'decrepit', 'flatteringly', 'miserly', 'survival', 'revile', 'incompetent', 'downside', 'evasive', 'hallmark', 'outsider', 'peeve', 'pettifog', 'scars', 'fuss', 'picketed', 'moan', 'inadequate', 'twist', 'sensational', 'erode', 'satirize', 'adaptive', 'interesting', 'belated', 'intrusion', 'dote', 'apathetically', 'over-balanced', 'vague', 'domineering', 'mistakenly', 'jaded', 'farcically', 'jeopardize', 'resignation', 'lavish', 'unprofitable', 'ill-advised', 'willingly', 'amicability', 'misjudgment', 'repugnantly', 'furious', 'silly', 'chasten', 'amazing', 'chatter', 'enhances', 'regrettable', 'unhappy', 'downhill', 'fainthearted', 'bait', 'cannibalize', 'stew', 'ecstatic', 'indiscriminately', 'skeptically', 'halfheartedly', 'devoid', 'prate', 'sin', 'odder', 'polution', 'hiliarious', 'ease', 'hypocritical', 'mope', 'messy', 'douchebag', 'despicably', 'ineffectual', 'eye-catching', 'unconditional', 'cartoonish', 'travesties', 'complain', 'infection', 'tease', 'subtract', 'exceed', 'fantastically', 'proficiently', 'gabble', 'prize', 'dummy-proof', 'contentious', 'wince', 'clear', 'insightfully', 'pokey', 'polemize', 'illicit', 'effectual', 'instructive', 'villianously', 'greedy', 'best-known', 'romantically', 'inarticulate', 'thumb-up', 'perversion', 'lean', 'hurt', 'hustler', 'malevolently', 'redemption', 'far-fetched', 'disbeliever', 'self-sufficient', 'comely', 'inextricably', 'stronger', 'bull****', 'snagged', 'dra', 'needlessly', 'cooperatively', 'irresponsibly', 'cheaper', 'biased', 'stringently', 'demonizes', 'maniac', 'endearing', 'impartial', 'awed', 'shimmer', 'stooge', 'imperfections', 'snobs', 'intolerablely', 'wonderous', 'blasted', 'mockeries', 'brainless', 'gloomy', 'amicably', 'awesome', 'foolhardy', 'rough', 'beneficent', 'stellar', 'mismanage', 'insult', 'scorn', 'fibber', 'fatcat', 'mists', 'agilely', 'solidarity', 'dissent', 'harmless', 'fascist', 'gratifyingly', 'overstated', 'accommodative', 'estranged', 'masterful', 'oddities', 'hastily', 'remarkable', 'sumptuous', 'expertly', 'throbbed', 'impatiently', 'joyfully', 'conscons', 'enrapt', 'impudently', 'undisputably', 'brutally', 'displaced', 'heavenly', 'mesmerize', 'busybody', 'hardened', 'illogically', 'apotheosis', 'conflicts', 'loot', 'stylized', 'beggar', 'tenderness', 'malevolent', 'notably', 'solicitously', 'refine', 'sucker', 'defunct', 'peril', 'setbacks', 'nightmare', 'burn', 'pleasurably', 'repulsive', 'awfulness', 'misunderstood', 'disrespect', 'obliterated', 'denounce', 'endorses', 'dislike', 'evasion', 'joker', 'feeble', 'temper', 'pre-eminent', 'scoffingly', 'scarcity', 'recession', 'inventive', 'apprehension', '2-faced', 'disrespectablity', 'devilish', 'blockage', 'irritating', 'parody', 'dirt-cheap', 'cheated', 'thoughtful', 'touts', 'dying', 'accurate', 'redundancy', 'disprove', 'boastful', 'indecisively', 'sloppily', 'capsize', 'revolutionary', 'killing', 'amusing', 'graceless', 'error', 'loyalty', 'unilateralism', 'beckoned', 'risk', 'personages', 'vulgar', 'favour', 'wripped', 'stingy', 'equivocal', 'complemented', 'woebegone', 'passiveness', 'isolate', 'feasibly', 'wasted', 'wobbles', 'ultimatum', 'drained', 'respect', 'accomodative', 'dislocated', 'lethal', 'sagged', 'derisively', 'helping', 'unsteadily', 'incompliant', 'sacrificed', 'remorse', 'decrement', 'denunciate', 'alarmingly', 'sorry', 'hideous', 'disaccord', 'begging', 'pertur', 'encroach', 'barbarous', 'upliftment', 'resolute', 'animosity', 'stimulating', 'betray', 'superstition', 'morbid', 'back-wood', 'debility', 'exploit', 'refuted', 'irreconcilable', 'struggles', 'discontinued', 'chill', 'disappointingly', 'irregular', 'powerless', 'monstrosity', 'bom', 'destitution', 'maddeningly', 'acrimoniously', 'protested', 'successful', 'nettle', 'snappy', 'scandal', 'despondently', 'honesty', 'unconstitutional', 'outraged', 'totalitarian', 'lawfully', 'clearly', 'crazily', 'diplomatic', 'dominated', 'melodramatically', 'devious', 'compassion', 'happily', 'redeem', 'frigid', 'fidgety', 'individualized', 'bullyingly', 'leads', 'resilient', 'unrealistic', 'nefarious', 'coerce', 'legendary', 'scandals', 'dull', 'pique', 'noiseless', 'revive', 'uncollectible', 'sillily', 'applaud', 'hysterical', 'neat', 'mocked', 'frenzied', 'deprived', 'neurotic', 'uncivil', 'violator', 'warmly', 'laconic', 'incessantly', 'adulteration', 'imminence', 'magic', 'carefree', 'rile', 'antagonistic', 'appreciates', 'skittish', 'apologist', 'mature', 'indignant', 'uphold', 'anger', 'lividly', 'upset', 'shake', 'unhappiness', 'salute', 'blockhead', 'fissures', 'breakthroughs', 'honored', 'refinement', 'rude', 'smoother', 'greatest', 'madden', 'creeping', 'cushy', 'obtainable', 'dreary', 'positive', 'perversely', 'aborted', 'incorrigible', 'obscure', 'upheaval', 'tender', 'uncomplicated', 'obstructing', 'daunting', 'harmoniously', 'flareup', 'anxieties', 'incoherence', 'discomfort', 'hacks', 'ruins', 'excellently', 'misstatement', 'gratify', 'thoughtless', 'irksome', 'merriment', 'retractable', 'messed', 'securely', 'astonish', 'abused', 'punctual', 'fleed', 'clogged', 'spectacularly', 'enhanced', 'killjoy', 'attentive', 'beneficial', 'convoluted', 'lyrical', 'kills', 'catastrophies', 'shrew', 'irritant', 'undercutting', 'capability', 'glitter', 'franticly', 'cheats', 'hypocricy', 'lawful', 'versatility', 'intriguing', 'impolitic', 'mislead', 'unequivocally', 'promise', 'tetchily', 'trample', 'cracks', 'incapably', 'unhelpful', 'exorbitantly', 'solemn', 'effusiveness', 'so-cal', 'unclear', 'falls', 'swagger', 'bruised', 'delectable', 'bitter', 'plentiful', 'dogged', 'squealing', 'negation', 'astounded', 'upgradeable', 'gli', 'emphatically', 'precariously', 'invulnerable', 'unemployed', 'examplar', 'forbidden', 'desititute', 'fearsome', 'grateful', 'eruptions', 'disillusions', 'reaffirmation', 'resounding', 'maledict', 'outperform', 'euphoria', 'obscurity', 'stubbornly', 'self-destructive', 'prudently', 'forfeit', 'lemon', 'edify', 'disgustful', 'excites', 'congratulate', 'succeeds', 'perilous', 'conspicuously', 'farce', 'irresolute', 'respectable', 'contrived', 'amiabily', 'dumbfounding', 'distracting', 'smelly', 'endanger', 'bereavement', 'fanatically', 'fickle', 'cashback', 'willingness', 'outperformed', 'mastery', 'alienation', 'personalized', 'soothingly', 'facetious', 'credible', 'devastation', 'throttle', 'illogical', 'corrupting', 'truthful', 'alluring', 'troublesome', 'unquestionable', 'foolish', 'disinterested', 'incomprehension', 'ecstatically', 'understandable', 'allegation', 'corruption', 'menial', 'goodness', 'respectfully', 'dim', 'burns', 'volatility', 'taunting', 'grate', 'rampage', 'profusion', 'outrages', 'overbalance', 'mishap', 'remorselessly', 'squeak', 'usurp', 'stereotypically', 'discontinuous', 'bargain', 'disrespecting', 'slumping', 'lifesaver', 'glamorous', 'contaminated', 'unrelentingly', 'demean', 'thankless', 'dissenter', 'needy', 'quash', 'plague', 'accomplished', 'replaceable', 'losses', 'hypocritically', 'unbelievably', 'benefactor', 'shatter', 'audacious', 'thirst', 'cozy', 'fooled', 'hobble', 'sly', 'confident', 'impediment', 'imprecision', 'captivate', 'recommendation', 'lawlessness', 'confusions', 'callous', 'cute', 'autonomous', 'mispronounced', 'meticulous', 'hardier', 'avariciously', 'well-received', 'patience', 'distaste', 'progress', 'self-humiliation', 'forceful', 'tauntingly', 'slut', 'inappropriate', 'abysmal', 'tanked', 'entertains', 'unaccustomed', 'dissuasive', 'loath', 'loneliness', 'concens', 'famed', 'predicament', 'inflated', 'awkwardness', 'guilt', 'unqualified', 'uninsured', 'blabber', 'heal', 'unfulfilled', 'mistress', 'extinguish', 'immaculate', 'indulgence', 'refute', 'remorselessness', 'cataclysm', 'portable', 'nitpicking', 'unbeatable', 'darkened', 'infernal', 'hell-bent', 'excelled', 'mourner', 'fallacious', 'disgustingly', 'politeness', 'wounds', 'tempting', 'bullish', 'oppositions', 'emphatic', 'ineffective', 'itching', 'myth', 'discriminate', 'lying', 'picket', 'prosecute', 'overdue', 'darling', 'truant', 'subsidizes', 'picky', 'ingenuously', 'deceiving', 'ideally', 'num', 'decent', 'plunder', 'allegations', 'deceptive', 'disdainful', 'broken', 'bore', 'modern', 'wane', 'providence', 'weird', 'aggressor', 'contempt', 'fake', 'conflict', 'jitters', 'engrossing', 'prattle', 'gaff', 'bull----', 'feebleminded', 'blaspheme', 'disruption', 'epidemic', 'elevate', 'dragoon', 'objections', 'standout', 'undisputed', 'break-ups', 'scandels', 'deadly', 'complementary', 'blow', 'deservedly', 'exemplar', 'bestial', 'audible', 'unacceptablely', 'dope', 'accomplishment', 'resentful', 'excoriate', 'unparalleled', 'ignoble', 'calming', 'cheaply', 'denied', 'dwindling', 'improved', 'burning', 'disproportionate', 'trouble', 'oversimplified', 'soundly', 'lugubrious', 'checkered', 'incompetence', 'fiery', 'deplorably', 'pretentiously', 'great', 'impudence', 'exhaust', 'dehumanization', 'offend', 'eye-catch', 'infested', 'hooligan', 'frictions', 'entrapment', 'perilously', 'penalize', 'rightly', 'barbarously', 'disarray', 'eyesore', 'dragged', 'hypocrite', 'covenant', 'fame', 'resigned', 'solicitous', 'adversary', 'feeblely', 'disapproval', 'excuse', 'blissful', 'sober', 'horrifys', 'stark', 'flexible', 'paucity', 'sharply', 'whooa', 'diligently', 'fictional', 'profuse', 'sneakily', 'terror', 'wretchedly', 'bereave', 'credulous', 'anti-social', 'sufficiently', 'exultation', 'scandalized', 'phobia', 'undecided', 'sickly', 'inordinately', 'achievable', 'large-capacity', 'hectic', 'miserably', 'skinny', 'intractable', 'disagreeable', 'unspecified', 'amenity', 'celebratory', 'contaminating', 'skillfully', 'grace', 'costlier', 'failures', 'unforeseen', 'titillatingly', 'rectifying', 'harden', 'bruising', 'enjoin', 'vainly', 'woe', 'gutsy', 'productive', 'abrasive', 'narrower', 'nicest', 'squeals', 'worthlessly', 'upbeat', 'vile', 'doldrums', 'crummy', 'dunce', 'mania', 'berate', 'rut', 'impassioned', 'vociferous', 'convienient', 'disquietingly', 'doomsday', 'civility', 'bleakness', 'unlicensed', 'desperation', 'awarded', 'miraculousness', 'oppression', 'broke', 'obstacle', 'corrosion', 'morality', 'unjustified', 'irritably', 'accolade', 'violate', 'peach', 'spookier', 'unworthy', 'reclaim', 'stormy', 'menace', 'smartest', 'resound', 'subsidizing', 'anarchist', 'molest', 'retards', 'fried', 'muddle', 'gleeful', 'condemns', 'trash', 'angelic', 'recklessness', 'hesitant', 'twinkly', 'saggy', 'convenient', 'supremacy', 'fascinating', 'wickedly', 'bullies', 'betrayer', 'simplifies', 'sluts', 'ill-usage', 'masterfully', 'lackadaisical', 'suspicion', 'matte', 'ridicules', 'win', 'nebulous', 'successes', 'weak', 'handsome', 'congratulations', 'backaches', 'elated', 'rockstar', 'sustainability', 'courteous', 'laid-off', 'aggravation', 'distortion', 'unorthodox', 'bewail', 'disagreeing', 'unpredictable', 'deadlock', 'snu', 'iniquitous', 'vibrant', 'desiccated', 'peculiarly', 'oasis', 'conspicuous', 'stifling', 'cunts', 'interruption', 'fallacy', 'accuse', 'lacks', 'electrify', 'banishment', 'lied', 'panic', 'avidly', 'disadvantage', 'explode', 'scuffs', 'blissfully', 'letch', 'extravagant', 'foul', 'doubts', 'pertinacity', 'rantingly', 'extermination', 'smuttiest', 'underestimate', 'jutter', 'creative', 'nice', 'unusable', 'inferior', 'drawback', 'taut', 'subsidize', 'injustice', 'smarter', 'unbearablely', 'distorted', 'undermined', 'excellent', 'contagious', 'weaker', 'pep', 'panders', 'baffling', 'vanity', 'believeable', 'fleer', 'venomous', 'ennoble', 'eyecatching', 'cannibal', 'unmatched', 'haze', 'problems', 'gleefully', 'dread', 'forgetfully', 'shocking', 'suffering', 'exceeding', 'sullen', 'worth-while', 'commodious', 'hells', 'scratches', 'temerity', 'confrontational', 'implicate', 'bogus', 'unclean', 'overact', 'inanely', 'doubtless', 'disfavor', 'astonished', 'luster', 'offence', 'rhetorical', 'accusation', 'struggling', 'diabolically', 'invalid', 'smudged', 'smoothes', 'law-abiding', 'ding', 'despondency', 'famine', 'examplary', 'stumped', 'dismissive', 'miscalculation', 'ordeal', 'unaffordable', 'furor', 'contort', 'toughness', 'illumine', 'stupendous', 'opponent', 'authoritative', 'brute', 'felicity', 'speedy', 'unsound', 'unreasonable', 'pugnacity', 'inexpiable', 'sloww', 'sensible', 'messes', 'dotingly', 'lag', 'unpopular', 'exhort', 'inopportune', 'overwhelm', 'desirable', 'abuse', 'ferocity', 'irrationally', 'unselfish', 'disapproving', 'heedless', 'contemptible', 'obliterate', 'glum', 'stagnation', 'eccentric', 'infidel', 'first-rate', 'goood', 'laudably', 'deceiver', 'ironic', 'ramshackle', 'accurately', 'cringe', 'incomparably', 'comfort', 'bla', 'infallible', 'strikingly', 'irrepressible', 'uncomfortably', 'repulsed', 'sloth', 'perplexing', 'long-lasting', 'pretense', 'hardy', 'excitement', 'obsessively', 'bellicose', 'stain', 'complex', 'disillusion', 'fleeing', 'steeply', 'unwisely', 'slowed', 'exceedingly', 'innovative', 'dejection', 'demonic', 'refusing', 'tamper', 'contrive', 'disagreeably', 'supremely', 'rifts', 'wicked', 'stunned', 'creepy', 'dearth', 'improve', 'traped', 'lovably', 'unacceptably', 'selfishly', 'headaches', 'subjection', 'unusual', 'costly', 'excels', 'savaged', 'disparaging', 'anti-occupation', 'denigrate', 'quarrellously', 'wrip', 'detestable', 'douchebags', 'uncompetitive', 'dictator', 'enrichment', 'immorality', 'thrifty', 'awe', 'detest', 'drips', 'infected', 'poetic', 'kooky', 'intelligence', 'mispronounce', 'grudgingly', 'confuse', 'shunned', 'mercy', 'drag', 'ineffectually', 'reluctantly', 'wonderfully', 'annoy', 'abominable', 'beneficiary', 'balk', 'bumpy', 'desiring', 'shamelessly', 'plotters', 'hard-line', 'quibbles', 'shimmeringly', 'hoard', 'unappealing', 'uncooperative', 'breathtakingly', 'reasonable', 'dissappointing', 'excruciatingly', 'commend', 'superficially', 'subpoena', 'variety', 'responsive', 'whoa', 'loser', 'pity', 'leaking', 'misjudge', 'disavow', 'interruptions', 'overtakes', 'capricious', 'suitable', 'desecrate', 'devastating', 'unwillingly', 'shun', 'insulting', 'mindless', 'asperse', 'bless', 'fruitless', 'adore', 'woefully', 'approve', 'upscale', 'nauseate', 'demon', 'best', 'unbound', 'spitefulness', 'reward', 'scare', 'problem-solver', 'predatory', 'obscenity', 'unspeakable', 'finicky', 'glory', 'cashbacks', 'dissapointed', 'fatally', 'lewdly', 'fidget', 'damnable', 'debts', 'unreliable', 'treachery', 'amaze', 'pathetically', 'ruts', 'evildoer', 'angriness', 'shoddy', 'destruction', 'chunky', 'subversively', 'threatening', 'flares', 'multi-polarization', 'hate', 'fave', 'malaise', 'heartbreaking', 'uncomfortable', 'vagueness', 'indecorum', 'villianous', 'disavowal', 'recover', 'litigious', 'insolence', 'adulation', 'wack', 'invidiously', 'wretchedness', 'bumps', 'frighten', 'daringly', 'adventuresome', 'malicious', 'inculcate', 'ambitiously', 'craziness', 'cajole', 'faint', 'fathomless', 'acrimony', 'exalt', 'romantic', 'unuseably', 'crisp', 'dangerousness', 'bothersome', 'wreak', 'dissonant', 'holy', 'stimulative', 'inexcusable', 'hasseling', 'meticulously', 'crack', 'blatant', 'favorited', 'lull', 'unfinished', 'difficult', 'conspirator', 'startle', 'un-viewable', 'ashamed', 'self-serving', 'keenness', 'deprave', 'fractious', 'languorously', 'left-leaning', 'dynamic', 'covetous', 'better', 'bashful', 'fecilitous', 'harmonize', 'loathe', 'efficiently', 'hawkish', 'stern', 'inhibition', 'struggle', 'fumes', 'mourn', 'ax', 'marvel', 'trashed', 'languor', 'disarm', 'rectification', 'eagerly', 'anxiousness', 'sunder', 'nitpick', 'overacted', 'lame', 'unexplained', 'idiocy', 'jerky', 'topnotch', 'suffered', 'despotism', 'thinner', 'simplifying', 'miseries', 'heroize', 'popular', 'confusion', 'malevolence', 'fatuous', 'throbbing', 'transparent', 'silent', 'work', 'downturn', 'crashing', 'errors', 'emasculate', 'gloriously', 'rapid', 'savages', 'beautifullly', 'shortcomings', 'cramping', 'insecure', 'tangle', 'dastard', 'outperforming', 'rockstars', 'mournful', 'sucky', 'inexpertly', 'inevitable', 'wrinkle', 'flutter', 'setback', 'presumptuously', 'courage', 'aground', 'insolently', 'fawningly', 'impress', 'charitable', 'lengthy', 'hatefully', 'insultingly', 'diabolical', 'exasperating', 'hegemonistic', 'swamped', 'unequal', 'debaucher', 'privilege', 'headway', 'disinterest', 'plagiarize', 'fuck', 'perfidious', 'rage', 'glower', 'rumbling', 'smart', 'thumbs-up', 'crook', 'back-logged', 'disquiet', 'sweeten', 'inescapably', 'contradiction', 'restructure', 'indecent', 'blinding', 'futility', 'disturbingly', 'liability', 'ridiculously', 'well-behaved', 'unencumbered', 'contradictory', 'disordered', 'solicitude', 'chaos', 'gripe', 'sneak', 'ruin', 'droop', 'discompose', 'refuses', 'horrifying', 'needless', 'bristle', 'downcast', 'detests', 'brutality', 'na\\\\xefve', 'layoff', 'scrambles', 'unhappily', 'hazardous', 'stressfully', 'tantalizingly', 'damages', 'inaction', 'racists', 'tidy', 'distrusting', 'hurting', 'misunderstand', 'fascination', 'clamorous', 'premeditated', 'tenuous', 'ghetto', 'vomiting', 'complements', 'dauntingly', 'baffle', 'flagrantly', 'nonsense', 'fallen', 'rapt', 'anarchy', 'madness', 'wrestle', 'aversion', 'shine', 'autocrat', 'cheerless', 'champion', 'troubling', 'screwy', 'unaffected', 'marvelled', 'syndrome', 'mistaken', 'protracted', 'sceptical', 'best-selling', 'faithfulness', 'richness', 'condemn', 'excitedly', 'tangled', 'marginal', 'significant', 'groundbreaking', 'inextricable', 'importunate', 'undermining', 'liars', 'flakey', 'raving', 'conceded', 'gloom', 'welcome', 'dangerous', 'treason', 'cure', 'tolerable', 'hack', 'collude', 'denunciations', 'wrest', 'plasticky', 'stutters', 'worthwhile', 'poorer', 'gaily', 'paranoia', 'danger', 'repulsively', 'blandish', 'damned', 'job-killing', 'bleeding', 'shirker', 'dies', 'shamefully', 'peaceable', 'poisonously', 'fervent', 'guiltless', 'effigy', 'authoritarian', 'distains', 'undersized', 'damning', 'cataclysmically', 'selfish', 'encouragement', 'hissed', 'hurted', 'undisputable', 'treacherous', 'admonish', 'satisified', 'lethargic', 'losing', 'incompatible', 'degenerate', 'resourceful', 'grimace', 'dissonantly', 'hard', 'foolproof', 'involuntary', 'winnable', 'insidious', 'overheat', 'sueing', 'antipathy', 'gimmick', 'unskilled', 'fallaciousness', 'gush', 'godlike', 'disturbing', 'illiterate', 'spank', 'refunded', 'innocuous', 'juddering', 'warped', 'irrelevance', 'cocky', 'destabilisation', 'noxious', 'thrillingly', 'misbehave', 'oversight', 'overpriced', 'savage', 'scandalously', 'stranger', 'fabulously', 'satisfying', 'swelling', 'irreplaceable', 'exagerates', 'facetiously', 'deception', 'undercuts', 'guilty', 'asunder', 'emaciated', 'raping', 'strife', 'extraneous', 'deceptively', 'deter', 'pardon', 'anti-israeli', 'rejoicing', 'unabashedly', 'absent-minded', 'savior', 'dislikes', 'precipitous', 'overbalanced', 'impolite', 'astonishing', 'dishearteningly', 'flatter', 'disingenuously', 'egotistical', 'entertaining', 'last-ditch', 'murky', 'plusses', 'unconfirmed', 'zeal', 'attraction', 'straggler', 'fruitlessly', 'sanctimonious', 'uprising', 'well-connected', 'confess', 'distastefully', 'savings', 'fragrant', 'disappointments', 'effective', 'wripping', 'efficacious', 'anti-semites', 'inconveniently', 'reasoned', 'inefficacy', 'eloquence', 'egregious', 'honor', 'saintly', 'unimaginably', 'rewardingly', 'radiant', 'prejudge', 'debase', 'contentment', 'grievously', 'chastise', 'gooood', 'fanciful', 'vagrant', 'gain', 'mysterious', 'judder', 'triumphantly', 'capriciously', 'tiring', 'leech', 'clog', 'terrible', 'forbid', 'nobly', 'overstates', 'disloyalty', 'vociferously', 'hero', 'concede', 'discomfititure', 'asinininity', 'inefficient', 'eyecatch', 'smilingly', 'destains', 'pamper', 'easing', 'cliched', 'strike', 'unsteady', 'stooges', 'demonized', 'grainy', 'pale', 'glorious', 'dejectedly', 'scrambling', 'effortless', 'forsake', 'enjoyably', 'insensitive', 'clumsy', 'praiseworthy', 'assuredly', 'indeterminably', 'prosper', 'cuteness', 'carnage', 'excallent', 'navigable', 'panicked', 'vulnerable', 'mockery', 'raptureous', 'purposeful', 'dent', 'keenly', 'cohesive', 'respectful', 'implication', 'limitations', 'floored', 'tumultuous', 'superiority', 'forebodingly', 'demoralizing', 'unachievable', 'fatuously', 'exalted', 'disallow', 'impiety', 'quieter', 'simplify', 'fiasco', 'semi-retarded', 'carelessness', 'fall', 'so', 'empathize', 'worrisome', 'abysmally', 'attack', 'disasterous', 'classy', 'expeditiously', 'disrupt', 'prowess', 'passe', 'smolder', 'obsession', 'commotion', 'untenable', 'harassed', 'intimacy', 'brashly', 'wound', 'affirmation', 'upsets', 'anti-american', 'felicitous', 'incredible', 'complaint', 'egocentric', 'awards', 'knock', 'flicering', 'enviably', 'chaff', 'sincerity', 'ameliorate', 'fervid', 'mess', 'funky', 'fever', 'chintzy', 'misguidance', 'inhumane', 'thicker', 'mistrustfully', 'revel', 'vexingly', 'beautiful', 'anxiety', 'shortsighted', 'fastest-growing', 'excellency', 'execrate', 'eloquently', 'spewed', 'soulful', 'bravado', 'stagnate', 'longingly', 'indelicate', 'sour', 'pretence', 'haunt', 'acridly', 'inhospitality', 'oversimplify', 'awesomeness', 'pretty', 'recourses', 'deterioration', 'distinction', 'smelt', 'crap', 'envy', 'comforting', 'self-sufficiency', 'miser', 'lousy', 'spirited', 'recoil', 'hegemonism', 'despise', 'spookily', 'wholeheartedly', 'galls', 'frustrations', 'deign', 'slowest', 'harpy', 'impropriety', 'rapturous', 'd*mn', 'goof', 'inimically', 'spilling', 'calumniate', 'self-coup', 'amiability', 'lechery', 'expropriate', 'easy', 'stutter', 'fright', 'full-blown', 'indulgent', 'snarl', 'frustrating', 'inevitably', 'trickery', 'grim', 'survivor', 'irritation', 'flourish', 'coldly', 'auspicious', 'playful', 'tickle', 'imbroglio', 'unreadable', 'pros', 'mistrust', 'streamlined', 'invisible', 'involuntarily', 'overdo', 'humid', 'bruise', 'compulsion', 'friendliness', 'bullshit', 'shamefulness', 'imperious', 'brighten', 'zap', 'accidental', 'dark', 'embattled', 'wily', 'cool', 'racist', 'grievance', 'ruined', 'luckiness', 'detracting', 'proprietary', 'unreal', 'nicer', 'a+', 'dirts', 'indignantly', 'flimsy', 'undercut', 'zapped', 'biting', 'delirium', 'liable', 'playfully', 'conciliate', 'flees', 'aloof', 'exuberance', 'embarrassment', 'indignation', 'limitation', 'massacres', 'painless', 'displease', 'parasite', 'indecision', 'strangest', 'imbalance', 'intransigence', 'winner', 'cramp', 'obstructed', 'irrationals', 'berserk', 'radicals', 'audaciously', 'exhorbitant', 'accessible', 'topple', 'adversity', 'repugn', 'shimmering', 'invasive', 'heartbreakingly', 'detestably', 'phony', 'repudiate', 'harms', 'unproves', 'assurance', 'travesty', 'dishonestly', 'concern', 'freedoms', 'proving', 'fragmented', 'twists', 'illegitimate', 'scenic', 'undue', 'inspire', 'desultory', 'selfinterested', 'thrash', 'conceited', 'discomfit', 'strongest', 'wrangle', 'low-cost', 'bewilder', 'invincibility', 'tarnishing', 'blemish', 'onerously', 'outdone', 'lethargy', 'intolerable', 'devilment', 'haggle', 'discrepant', 'hateful', 'indignity', 'reproach', 'facilitate', 'dissemble', 'irksomeness', 'exasperate', 'din', 'ingrate', 'enslave', 'marginally', 'lawbreaking', 'merry', 'award', 'heartwarming', 'conveniently', 'incapable', 'damn', 'horrid', 'shrill', 'rascal', 'delightful', 'cynicism', 'poise', 'gnawing', 'saver', 'abomination', 'guarantee', 'incredulous', 'glowing', 'erroneously', 'distrustful', 'smack', 'bragger', 'glitches', 'unconvincing', 'earnest', 'revolutionizes', 'exagerate', 'hangs', 'confounded', 'niggle', 'ingratitude', 'rejection', 'grandeur', 'defeat', 'smugly', 'overstate', 'privileged', 'outstandingly', 'discontented', 'fruitful', 'spoiled', 'huckster', 'rattled', 'heavyhearted', 'cherished', 'bulkiness', 'overzealously', 'embarrassingly', 'grisly', 'earnestness', 'dissing', 'impersonal', 'jeers', 'hassles', 'idiots', 'rightfully', 'bedlam', 'extremism', 'mighty', 'irk', 'refutation', 'nauseating', 'tenaciously', 'striving', 'misbecoming', 'time-honored', 'muddy', 'hell', 'pickets', 'inundated', 'ignominy', 'craftly', 'unwell', 'gasp', 'beautifully', 'ache', 'obscured', 'redeeming', 'glitch', 'scorchingly', 'slap', 'self-interest', 'obtrusive', 'threesome', 'kudos', 'errant', 'apathy', 'undefined', 'hideousness', 'incorrigibly', 'scrap', 'gratifying', 'reprehension', 'dishonorablely', 'incredulously', 'tougher', 'insufficient', 'flawlessly', 'trustingly', 'pertinacious', 'browbeat', 'undid', 'devastate', 'declaim', 'shameless', 'disrespectful', 'calumny', 'dungeon', 'sorrow', 'dreadfulness', 'concessions', 'devilishly', 'dumped', 'merciful', 'threats', 'clean', 'slothful', 'geeky', 'fond', 'exclusion', 'bloody', 'unfaithful', 'rebellious', 'outshone', 'manipulators', 'stupidly', 'slooow', 'balanced', 'grating', 'adverse', 'impunity', 'purify', 'loathing', 'judders', 'repugnant', 'violently', 'benefits', 'entranced', 'honest', 'bloodthirsty', 'misgiving', 'archaic', 'provocative', 'unfaithfully', 'salacious', 'war-like', 'unobserved', 'craftily', 'bugging', 'choleric', 'toughest', 'mawkishness', 'impossibly', 'kindliness', 'pleases', 'vengefulness', 'flabbergast', 'deviation', 'omission', 'fulminate', 'farfetched', 'unnaturally', 'slow', 'dense', 'provoke', 'maddening', 'faithless', 'warily', 'promptly', 'compatible', 'superb', 'willing', 'enthusiastic', 'displeasure', 'violators', 'advantages', 'frightening', 'sweaty', 'impermissible', 'wrongly', 'magnificently', 'sucks', 'wary', 'restlessness', 'obnoxiously', 'crueler', 'unwanted', 'maladjustment', 'insensitivity', 'corrosions', 'uproot', 'substantive', 'disgusted', 'innuendo', 'justly', 'debacle', 'difficulty', 'lure', 'hopelessness', 'freak', 'gripes', 'hates', 'ardor', 'achey', 'dissembler', 'qualify', 'trumpet', 'interfere', 'acerbate', 'crumple', 'first-in-class', 'apocalyptic', 'dreadful', 'adjustable', 'wonder', 'spinster', 'perfidity', 'crept', 'wrinkles', 'barbarian', 'memorable', 'randomly', 'sloooow', 'upsetting', 'fair', 'squirm', 'mudslinger', 'imaginative', 'decisive', 'despair', 'reconciliation', 'shrouded', 'unquestionably', 'risks', 'worrying', 'offensive', 'ambiguity', 'acerbically', 'moribund', 'thrills', 'pleas', 'monumental', 'shark', 'prosperity', 'sputter', 'incivility', 'subjugation', 'creak', 'disadvantageous', 'soapy', 'rift', 'unsafe', 'inflammed', 'intoxicate', 'risk-free', 'partiality', 'counter-attack', 'lonesome', 'paltry', 'protests', 'occluded', 'bickering', 'cheating', 'prestigious', 'humility', 'discombobulate', 'besiege', 'spellbinding', 'cravenly', 'derisive', 'stench', 'oddly', 'despoiler', 'inexpert', 'heaven', 'misaligns', 'insincerely', 'ingenuous', 'compliant', 'frustrates', 'incomprehensible', 'flare', 'doggedly', 'calamity', 'protective', 'infringe', 'scorching', 'break', 'paralize', 'harbors', 'unexpected', 'ruthlessly', 'low-risk', 'undocumented', 'negativity', 'unexpectedly', 'tantalize', 'fortunately', 'neglected', 'forgetful', 'haggard', 'colorful', 'enjoyment', 'dead', 'rants', 'craven', 'graciously', 'bewilderingly', 'lies', 'retract', 'wrought', 'martyrdom-seeking', 'ultra-crisp', 'moody', 'abruptly', 'goodwill', 'reconcile', 'compassionate', 'disillusionment', 'scrambled', 'unstable', 'sinking', 'rumor', 'throbs', 'lucid', 'propitious', 'fervor', 'brutal', 'peevish', 'sparkling', 'eager', 'tanks', 'mordant', 'exciting', 'jaw-droping', 'pandemonium', 'useable', 'disappointment', 'outrageousness', 'rewarding', 'congested', 'oblique', 'gross', 'support', 'mortification', 'resistance', 'excellant', 'defamation', 'pessimistically', 'fancinating', 'invidiousness', 'majestic', 'important', 'hating', 'inadvisable', 'vibrates', 'subordinate', 'baffled', 'annoys', 'exultant', 'inattentive', 'adorer', 'cumbersome', 'sleazy', 'consistently', 'incense', 'incitement', 'blockbuster', 'insurmountably', 'courageous', 'destiny', 'incompatability', 'indoctrinate', 'distorts', 'patronize', 'staunchness', 'cheater', 'effrontery', 'glowingly', 'supporting', 'sickeningly', 'immoderate', 'banalize', 'isolation', 'pariah', 'defamatory', 'smartly', 'killer', 'pricier', 'lurid', 'well-informed', 'extortion', 'substandard', 'prisoner', 'arduously', 'all-around', 'scornfully', 'malign', 'paramount', 'reassure', 'mudslinging', 'malcontent', 'insidiously', 'obsessions', 'crashes', 'undermine', 'wasting', 'cost-effective', 'hoodium', 'pompous', 'long-winded', 'laughably', 'aggrieve', 'confounding', 'diametrically', 'lively', 'hardhearted', 'heartily', 'self-defeating', 'divine', 'priceless', 'bothered', 'irately', 'thriving', 'delicious', 'oppress', 'guidance', 'rejuvenate', 'disbelief', 'peppy', 'cherub', 'mendacious', 'distraughtness', 'disunity', 'robust', 'irresolvable', 'divinely', 'heck', 'incessant', 'fancy', 'sadness', 'nicely', 'spitefully', 'annoyed', 'disabled', 'superstitious', 'unavailable', 'smoke', 'energy-saving', 'nonresponsive', 'outcry', 'imperfect', 'skill', 'fanfare', 'affectionate', 'insubordinate', 'perfectly', 'carp', 'trivially', 'irrecoverable', 'subdued', 'grind', 'problem-free', 'calm', 'deference', 'windfall', 'comical', 'licentiousness', 'supported', 'injurious', 'spacious', 'unleash', 'genial', 'defrauding', 'strut', 'spendy', 'indoctrination', 'goofy', 'loves', 'golden', 'admonishment', 'confrontation', 'glisten', 'stringent', 'jaw-dropping', 'insinuation', 'runaway', 'smoothest', 'spellbind', 'demise', 'uneasy', 'imposition', 'solace', 'pest', 'instigators', 'luxuriate', 'lambast', 'lorn', 'stolen', 'unnoticed', 'surreal', 'freed', 'inequitably', 'attractively', 'sicken', 'slogging', 'annihilate', 'smug', 'intrigue', 'imperialist', 'run-down', 'shroud', 'ripped', 'unyielding', 'liar', 'murder', 'sloow', 'confuses', 'clears', 'unintelligile', 'rejoice', 'senile', 'miss', 'zombie', 'motley', 'solid', 'groundless', 'meaningless', 'raped', 'lead', 'deform', 'mordantly', 'shipwreck', 'successfully', 'wretched', 'horrific', 'evade', 'over-acted', 'impasse', 'prickle', 'charmingly', 'bitterness', 'scar', 'sad', 'torment', 'indiscreetly', 'stodgy', 'miscreant', 'embarrass', 'vomit', 'horrifies', 'superfluous', 'cuss', 'excitingly', 'unrestricted', 'energetic', 'insouciance', 'worthlessness', 'reprehensibly', 'stunningly', 'tricked', 'idiotically', 'pepping', 'annoyances', 'repel', 'inaptitude', 'wowed', 'motivated', 'immodest', 'charm', 'engaging', 'accolades', 'promised', 'overtake', 'lazy', 'crappy', 'indecently', 'bigotries', 'rapport', 'compactly', 'creaking', 'fears', 'talented', 'disorderly', 'inaccuracies', 'profane', 'overstatement', 'flair', 'panick', 'hopeless', 'wallow', 'humiliating', 'heathen', 'disorient', 'suicidal', 'subversive', 'fairly', 'treasonous', 'renowned', 'hysteria', 'uneconomical', 'erodes', 'debauch', 'grumble', 'ludicrously', 'recessionary', 'correctly', 'luck', 'admonishingly', 'stole', 'surmount', 'disconsolate', 'tortured', 'backbite', 'regally', 'bonuses', 'lurch', 'uneven', 'menacingly', 'tantalizing', 'oppressively', 'entangle', 'glitz', 'illness', 'sensation', 'hilarious', 'affordably', 'bravery', 'impertinent', 'livid', 'exasperation', 'harrow', 'imposers', 'polished', 'questionable', 'insolent', 'chore', 'backwood', 'delayed', 'enjoys', 'quarrel', 'innovation', 'rejuvenating', 'agile', 'fatefully', 'stigmatize', 'festive', 'unavoidably', 'idiotic', 'harangue', 'misread', 'helplessly', 'lurk', 'dump', 'easygoing', 'everlasting', 'dismayingly', 'grudges', 'shock', 'overtaxed', 'diligence', 'provocation', 'disinclined', 'displeased', 'cripple', 'inspiration', 'imprisonment', 'gall', 'dazzled', 'faultless', 'glare', 'mushy', 'premier', 'supurb', 'snagging', 'ineligible', 'debilitate', 'slaughtered', 'fanatical', 'resentment', 'passion', 'rigid', 'defective', 'love', 'drones', 'dissatisfaction', 'strained', 'unnatural', 'nightmarish', 'fastest', 'lucky', 'appall', 'heroically', 'inspirational', 'brutalising', 'frustratingly', 'inflame', 'maneuverable', 'impudent', 'inestimably', 'villainously', 'hollow', 'nauseates', 'sugarcoated', 'bug', 'enjoyable', 'deprecate', 'bemused', 'sully', 'top-quality', 'snappishly', 'recomend', 'sleek', 'enough', 'complicit', 'famously', 'choke', 'fancier', 'distinguished', 'disillusioned', 'inconstant', 'massacre', 'well-known', 'thorny', 'pride', 'dispiritedly', 'helped', 'mesmerized', 'recalcitrant', 'insupportable', 'critic', 'oppose', 'madman', 'liberation', 'extravagantly', 'sulk', 'flattering', 'dazed', 'intimidatingly', 'immovable', 'enchantingly', 'super', 'principled', 'twisted', 'buckle', 'overthrows', 'unhealthy', 'detracted', 'contention', 'gruesome', 'goading', 'effortlessly', 'incognizant', 'bleak', 'punch', 'educated', 'earsplitting', 'freedom', 'imprecise', 'revolutionized', 'cautionary', 'unimaginable', 'decadent', 'dispensable', 'exultingly', 'feint', 'prejudice', 'wail', 'stiflingly', 'dependable', 'naughty', 'disdainfully', 'fatigue', 'chivalry', 'calumnious', 'enterprising', 'objection', 'nifty', 'smells', 'exceeds', 'depressions', 'second-class', 'regression', 'sadly', 'dirtbag', 'hostile', 'disobedience', 'argumentative', 'indiscriminating', 'straightforward', 'ranted', 'sham', 'inaccurately', 'ill-conceived', 'inpressed', 'unlamentable', 'preposterously', 'roomy', 'discontinuity', 'insignificance', 'tenacious', 'prohibit', 'inconsolable', 'cracked', 'suicide', 'easiest', 'loathsome', 'reticent', 'absentee', 'desperate', 'crumbling', 'inadverently', 'unfazed', 'denies', 'proactive', 'drought', 'luxury', 'dauntless', 'hotbeds', 'inteferes', 'unviewable', 'terrifically', 'frenzy', 'deceive', 'altercation', 'reprove', 'infuriate', 'indiscernible', 'swank', 'despotic', 'bleed', 'consistent', 'sting', 'loses', 'grouchy', 'lovelorn', 'offenses', 'irate', 'uncreative', 'backbiting', 'exquisite', 'assuring', 'indecency', 'smudges', 'culpable', 'destructive', 'immorally', 'irritated', 'appallingly', 'doubtful', 'disconcerting', 'finest', 'fatuity', 'flourishing', 'sugar-coated', 'gains', 'zealous', 'stupified', 'condemnable', 'cheer', 'adamantly', 'despoil', 'elatedly', 'irresponsible', 'dullard', 'shameful', 'yawn', 'retreat', 'unwieldy', 'infidels', 'comfy', 'pillage', 'foully', 'restructured', 'evocative', 'rhapsodize', 'ecstasy', 'elite', 'backaching', 'bullshyt', 'frantic', 'restructuring', 'lunatic', 'ghosting', 'fallacies', 'frantically', 'unneeded', 'enthuse', 'stymied', 'opinionated', 'distort', 'fetid', 'audibly', 'attune', 'arduous', 'rubbish', 'scams', 'inexcusably', 'pitifully', 'magnificent', 'dismally', 'restrictive', 'inviolate', 'poorly', 'tentatively', 'terribly', 'low-priced', 'bankrupt', 'leakage', 'miff', 'remorseless', 'frost', 'righteous', 'marvelous', 'elimination', 'gainful', 'relentless', 'reviled', 'affirm', 'monstrosities', 'vice', 'deviousness', 'torturously', 'backbone', 'happiness', 'upliftingly', 'ill-formed', 'aweful', 'quaint', 'tarnish', 'humiliation', 'confidence', 'overrated', 'rhetoric', 'tired', 'unreachable', 'deformed', 'indeterminable', 'betrays', 'hands-down', 'tyranny', 'reliably', 'mercilessly', 'tarnished', 'dumbfound', 'nervously', 'cleanly', 'disconcert', 'simplest', 'disparage', 'disconsolately', 'undignified', 'achievible', 'invalidity', 'obscenely', 'illustrious', 'remorseful', 'dungeons', 'nurturing', 'crowdedness', 'unnerving', 'jubilate', 'negatives', 'meaningful', 'fool', 'invader', 'frozen', 'over-awe', 'heros', 'intriguingly', 'overpaid', 'statuesque', 'compliment', 'wretch', 'exhaustion', 'puzzlement', 'objectionable', 'unravel', 'virulence', 'disgustfully', 'unrelenting', 'exterminate', 'nebulously', 'lack', 'sags', 'screwed-up', 'lustrous', 'belabor', 'idle', 'dissatisfied', 'rotten', 'uncompromising', 'gusto', 'racism', 'lackeys', 'renaissance', 'inconsequentially', 'anti-white', 'denunciation', 'noble', 'tentative', 'fascinatingly', 'agonizing', 'irked', 'coarse', 'dignified', 'judicious', 'conciliatory', 'protest', 'top-heavy', 'sh*t', 'inconsiderately', 'alarmed', 'emptiness', 'inefficiently', 'pleasurable', 'villian', 'fearlessly', 'courtly', 'ineffectiveness', 'safely', 'deginified', 'overkill', 'abusive', 'irking', 'blotchy', 'pertinaciously', 'ailing', 'remedy', 'debilitating', 'revolting', 'unfounded', 'burden', 'inexorable', 'contradict', 'pure', 'flashy', 'humane', 'sardonically', 'evenly', 'promises', 'obsess', 'zenith', 'nastily', 'easiness', 'aimless', 'misfit', 'prefer', 'misuse', 'exonerate', 'peerless', 'sass', 'indefensible', 'menacing', 'beloved', 'quibble', 'prison', 'fascinate', 'excruciating', 'sketchy', 'impoverish', 'novelty', 'remunerate', 'fairness', 'ignorant', 'insatiable', 'irreparable', 'comfortable', 'steadfastly', 'dust', 'maniacal', 'honorable', 'disservice', 'happy', 'god-given', 'trendy', 'poison', 'aspiration', 'idiot', 'delirious', 'inequities', 'licentiously', 'scam', 'leading', 'worthiness', 'commiserate', 'disadvantages', 'conspiracies', 'shriek', 'trick', 'censure', 'droops', 'ecenomical', 'aches', 'melancholy', 'dismal', 'available', 'unraveled', 'wilt', 'celebration', 'snappish', 'assult', 'decisiveness', 'luckiest', 'stumbled', 'heckles', 'easier', 'troubles', 'conservative', 'unacceptable', 'retaliate', 'infiltrator', 'worriedly', 'hasty', 'refusal', 'well-educated', 'feverish', 'unuseable', 'valiant', 'befoul', 'crime', 'overplay', 'drags', 'mediocrity', 'flickering', 'inferiority', 'skimpy', 'revoke', 'blithe', 'unfunded', 'perverts', 'sarcastic', 'titillating', 'ungovernable', 'unable', 'neglect', 'slogged', 'grievances', 'cloudy', 'gentlest', 'fabrication', 'grouse', 'valuable', 'fast-growing', 'taxing', 'mawkishly', 'profoundly', 'flout', 'blur', 'ignominiously', 'daze', 'unforgettable', 'fundamentalism', 'industrious', 'worryingly', 'cry', 'fume', 'entrap', 'obsessive', 'backward', 'praise', 'sloooooooooooooow', 'meddlesome', 'enhancement', 'fans', 'brilliance', 'eulogize', 'unequivocal', 'spellbindingly', 'taunt', 'proper', 'ugliness', 'dazzle', 'ruffian', 'disastrously', 'deplorable', 'affirmative', 'stainless', 'incoherently', 'flirty', 'yay', 'bitchy', 'slowly', 'enliven', 'corrosive', 'jovial', 'inconceivably', 'correct', 'secure', 'fugitive', 'beneficially', 'pain-free', 'apprehensions', 'revives', 'interrupt', 'shrug', 'immature', 'ardently', 'latency', 'die-hard', 'floundering', 'hotcake', 'distressingly', 'congenial', 'empathy', 'endorsement', 'rogue', 'jarring', 'untested', 'culprit', 'disrespectable', 'flimflam', 'reputable', 'hothead', 'unassailable', 'convience', 'misaligned', 'well-rounded', 'abundant', 'two-faces', 'haunting', 'strain', 'enlighten', 'swelled', 'whore', 'rejoicingly', 'damaging', 'disappoint', 'blurt', 'polluters', 'perturbed', 'desertion', 'brimstone', 'flabbergasted', 'strident', 'molestation', 'fabricate', 'shit', 'kid-friendly', 'unfettered', 'unnecessary', 'depraved', 'simpler', 'rejects', 'mindlessly', 'tumbled', 'monotony', 'relentlessness', 'dripped', 'troublingly', 'virtuously', 'militancy', 'ignorance', 'dripping', 'embroilment', 'skeptical', 'gaudy', 'addicted', 'flee', 'mischievously', 'integrated', 'lech', 'brilliant', 'disliked', 'murderer', 'whoooa', 'overdone', 'beg', 'challenging', 'skeptic', 'crippling', 'imprecisely', 'smile', 'terrific', 'fatal', 'dismaying', 'tediously', 'aghast', 'ample', 'capable', 'autocratic', 'unfeeling', 'chaste', 'anemic', 'exaltation', 'gallantly', 'drippy', 'inaudible', 'blackmail', 'stresses', 'lagging', 'shortcoming', 'decay', 'mock', 'punishable', 'idealize', 'unlamentably', 'squander', 'delusions', 'handily', 'backache', 'mockingly', 'time-consuming', 'slick', 'unsuspecting', 'repulsiveness', 'lumpy', 'cussed', 'coercion', 'disintegrate', 'illegally', 'outbreak', 'defile', 'gracelessly', 'succes', 'stink', 'valiantly', 'distress', 'vindictiveness', 'marvelousness', 'coherent', 'shirk', 'recommended', 'contribution', 'crushed', 'fascism', 'pollute', 'depressingly', 'pan', 'rich', 'readily', 'forsaken', 'vengefully', 'worsen', 'crooked', 'brainwash', 'inveigle', 'satirical', 'misinterpret', 'unwillingness', 'ironically', 'inequality', 'dextrous', 'inhuman', 'happier', 'bright', 'reasonably', 'rectify', 'reforms', 'trap', 'accursed', 'terrorize', 'freakish', 'contaminate', 'smudge', 'dizzingly', 'drop-out', 'fleeting', 'ignominious', 'delusional', 'bonny', 'waning', 'devastated', 'vouchsafe', 'harmonious', 'upsettingly', 'mad', 'handicapped', 'dinky', 'dubious', 'bored', 'hassled', 'insignificantly', 'starvation', 'abominate', 'sneaky', 'fast', 'spurn', 'jam', 'disobey', 'vivacious', 'reproachful', 'sinfully', 'calamitous', 'charisma', 'commonplace', 'stiff', 'controversy', 'roomier', 'hefty', 'retard', 'perplexed', 'rail', 'erratic', 'impetuous', 'unresponsive', 'recommendations', 'champ', 'blunt', 'dazzling', 'notorious', 'tiresome', 'gawky', 'crass', 'brazenly', 'restriction', 'braggart', 'dependably', 'caustic', 'f**k', 'unsettled', 'vindictively', 'unsupported', 'toll', 'cheery', 'hail', 'jubilation', 'crippled', 'misconception', 'languish', 'leaks', 'lagged', 'injure', 'vouch', 'tangles', 'subservient', 'suave', 'forgetfulness', 'saintliness', 'beware', 'downfallen', 'indulge', 'beastly', 'impossible', 'enhance', 'terror-genic', 'prefers', 'gimmicked', 'damper', 'glimmering', 'gratified', 'surrender', 'awsome', 'beckons', 'tyrannically', 'overblown', 'illusory', 'taunts', 'gentle', 'blindside', 'disrespectfulness', 'advocated', 'anarchistic', 'languid', 'idol', 'despised', 'drastic', 'monstrous', 'reliable', 'impair', 'one-sided', 'snag', 'oppressors', 'scarier', 'unjustifiable', 'doddering', 'revengeful', 'manageable', 'skepticism', 'dissatisfy', 'beleaguer', 'bad', 'gossip', 'irrationalities', 'apocalypse', 'botch', 'pampers', 'smiles', 'gaffe', 'pitiless', 'crumble', 'mangles', 'thumb-down', 'clamor', 'patriotic', 'infest', 'advocates', 'promising', 'inflationary', 'fusty', 'excelent', 'sluggish', 'nourish', 'scolding', 'eased', 'fondness', 'bloated', 'tops', 'eschew', 'unusually', 'wrath', 'depress', 'concerns', 'intimidation', 'greed', 'taboo', 'rabid', 'agonize', 'immense', 'trustworthy', 'leaky', 'optimal', 'miracle', 'talent', 'atrophy', 'enemies', 'improvement', 'scolded', 'disoobedient', 'loyal', 'jeer', 'defects', 'paralyzed', 'renown', 'pricey', 'wiles', 'criticized', 'delightfulness', 'desolately', 'abscond', 'tawdry', 'impinge', 'irks', 'sunk', 'villains', 'unprepared', 'pamperedness', 'disaster', 'divisively', 'brutalities', 'convenience', 'savagery', 'scoundrel', 'fustigate', 'feisty', 'nettlesome', 'shockingly', 'disable', 'glad', 'unreliability', 'inefficacious', 'pigs', 'cruel', 'rot', 'gained', 'deject', 'dismayed', 'pillory', 'enticing', 'halcyon', 'encroachment', 'uproar', 'demonizing', 'bewildering', 'grudge', 'stupidest', 'tranquil', 'worry', 'grin', 'prickles', 'maliciously', 'pimple', 'likable', 'desirous', 'disaffected', 'scratched', 'unkind', 'bash', 'swollen', 'disreputable', 'exult', 'smiling', 'fortunate', 'stubborn', 'idiocies', 'slave', 'accomplish', 'corrode', 'heavy-handed', 'tacky', 'bereft', 'symptom', 'blasphemous', 'plea', 'fallaciously', 'deploringly', 'fervently', 'dissed', 'sneering', 'optimistic', 'exceled', 'stall', 'frightfully', 'imperiously', 'screwed', 'desperately', 'occlude', 'overwhelmed', 'sweet', 'gratefully', 'hapless', 'mendacity', 'right', 'prolific', 'imperfectly', 'noisy', 'unpleasantries', 'gainsayer', 'qualms', 'benifits', 'fiendish', 'jagged', 'altruistic', 'absurdity', 'cleanliness', 'insubstantially', 'abominably', 'smut', 'tough', 'magical', 'sociable', 'disdain', 'palatial', 'abort', 'demolish', 'dire', 'regreted', 'struggled', 'giddy', 'levity', 'subversion', 'instrumental', 'prodigy', 'aspire', 'dirt', 'refreshing', 'weaken', 'revere', 'unproved', 'articulate', 'lecherous', 'mystery', 'suffers', 'boom', 'headache', 'relent', 'bluring', 'displeasing', 'helpful', 'heckle', 'coercive', 'well', 'dispirit', 'sophisticated', 'bewilderment', 'radiance', 'dents', 'blame', 'rapturously', 'favorite', 'egomania', 'gladden', 'cloud', 'stereotype', 'freakishly', 'amputate', 'frustration', 'accusing', 'bondage', 'gaiety', 'affably', 'pamperedly', 'ovation', 'fell', 'adoring', 'refuse', 'discoutinous', 'immobilized', 'spellbound', 'monster', 'dawn', 'nourishment', 'slack', 'vehemently', 'impressive', 'contaminates', 'disown', 'adamant', 'loved', 'swanky', 'aggressive', 'fanatic', 'mist', 'lawless', 'acumen', 'exasperated', 'formidable', 'distressing', 'escapade', 'retardedness', 'tiringly', 'dismalness', 'clever', 'top-notch', 'indiscriminate', 'elation', 'insensible', 'freshest', 'exaltingly', 'shemale', 'long-time', 'ailment', 'encourage', 'lewd', 'traduce', 'unworkable', 'knotted', 'recant', 'redundant', 'altruistically', 'sumptuously', 'unsavory', 'majesty', 'fucking', 'propitiously', 'invigorate', 'alienated', 'overweight', 'ill-fated', 'standstill', 'madder', 'nastiness', 'ineffectively', 'loathsomely', 'gibberish', 'breakup', 'decry', 'wrong', 'outrageously', 'dissention', 'dissension', 'phenomenally', 'insubstantial', 'loophole', 'disconsolation', 'horrendously', 'disheartening', 'shaky', 'record-setting', 'unwavering', 'blurs', 'destroy', 'creeps', 'discord', 'unthinkably', 'less-developed', 'bumping', 'spewing', 'allergic', 'untrustworthy', 'nourishing', 'stunted', 'chide', 'prettily', 'annoyance', 'paranoid', 'discontent', 'bullying', 'bid-rigging', 'barbarity', 'helplessness', 'onslaught', 'listless', 'defeated', 'egotistically', 'discourage', 'revitalize', 'jitter', 'impartiality', 'frighteningly', 'afford', 'ineffectualness', 'object', 'unfamiliar', 'empowerment', 'smelling', 'missed', 'disobedient', 'disquieting', 'harasses', 'betrayals', 'abrupt', 'askance', 'adaptable', 'unsuccessful', 'fat-cats', 'imminently', 'glorify', 'entanglement', 'cheapen', 'dissolute', 'sore', 'pessimistic', 'unsuccessfully', 'ulterior', 'wows', 'keen', 'distasteful', 'irresistibly', 'prohibitive', 'starve', 'erudite', 'degradingly', 'flaunt', 'deserving', 'stirringly', 'hardliner', 'betraying', 'poisonous', 'exceptional', 'frenetically', 'inimical', 'profound', 'squeaks', 'perversity', 'rash', 'frail', 'intelligible', 'complained', 'prominent', 'hard-liner', 'drunk', 'rosy', 'versatile', 'blessing', 'aspirations', 'impose', 'ungrateful', 'non-violent', 'undaunted', 'irritations', 'hearten', 'flounder', 'downsides', 'buzzing', 'ethical', 'arcane', 'oversimplification', 'sucked', 'perverse', 'shadowy', 'baseless', 'aggravating', 'gruesomely', 'hazard', 'contravene', 'irresistible', 'serene', 'irragularity', 'righteousness', 'inflict', 'opulent', 'blasphemy', 'dexterously', 'world-famous', 'sane', 'spoil', 'unscrupulous', 'amazingly', 'bigotry', 'unprove', 'relaxed', 'cherish', 'originality', 'unimportant', 'stuttering', 'rremediable', 'inconsequent', 'strange', 'ill-natured', 'goodly', 'improbability', 'murderously', 'crush', 'plight', 'fraught', 'supportive', 'dubiously', 'appealing', 'zest', 'petrified', 'worsening', 'defender', 'luxuriant', 'imperil', 'spade', 'layoff-happy', 'avarice', 'fault', 'martyrdom', 'amenable', 'dumps', 'severity', 'friction', 'ferociously', 'spectacular', 'discriminatory', 'adoringly', 'marvels', 'optimism', 'sink', 'controversial', 'draconic', 'failed', 'vexation', 'rock-star', 'hostage', 'temptation', 'threat', 'stressful', 'elan', 'traumatic', 'disgustedly', 'failure', 'fortitude', 'beautify', 'screw-up', 'mishandle', 'pleasing', 'irksomely', 'crude', 'rumours', 'acridness', 'elegant', 'faze', 'smash', 'fanatics', 'beguile', 'inadequately', 'venomously', 'brave', 'clarity', 'tyrant', 'lackey', 'loner', 'bungling', 'bothers', 'limp', 'dumbfounded', 'jollify', 'bearish', 'deteriorate', 'amuse', 'complement', 'progressive', 'restless', 'delinquent', 'pleasantly', 'incompatibility', 'reverent', 'ricer', 'farcical', 'positively', 'staunchly', 'deploring', 'gimmicks', 'corrupts', 'bastards', 'strict', 'astray', 'brilliantly', 'belittling', 'sweetness', 'infuriatingly', 'disinclination', 'puny', 'delicate', 'inaccuracy', 'stimulate', 'openly', 'discountenance', 'curses', 'indecisive', 'terrorism', 'luminous', 'pleasure', 'phenomenal', 'inviolable', 'chronic', 'meanness', 'ill-tempered', 'ecstasies', 'testily', 'static', 'dishonorable', 'insulted', 'illusions', 'breaks', 'sufferer', 'bitch', 'mistakes', 'assure', 'frazzle', 'stellarly', 'magnanimously', 'stifle', 'back-woods', 'downgrade', 'death', 'decadence', 'doom', 'bombardment', 'suspicions', 'disgruntle', 'filth', 'entrust', 'accuses', 'bafflement', 'foreboding', 'forswear', 'lanky', 'fictitious', 'immoral', 'depression', 'appreciative', 'ill-sorted', 'calumniation', 'moot', 'nervous', 'fashionably', 'effectiveness', 'addicting', 'squabbling', 'crabby', 'sensibly', 'infringements', 'marvellous', 'unorthodoxy', 'ambiguous', 'homage', 'barren', 'mercifully', 'toil', 'pander', 'demoralizingly', 'delay', 'amply', 'handier', 'impugn', 'disorder', 'obstinately', 'feckless', 'depressed', 'inhibit', 'plush', 'killed', 'sexy', 'uneventful', 'integral', 'wheedle', 'dignify', 'vileness', 'limits', 'monumentally', 'miraculous', 'grumpish', 'blindingly', 'dings', 'pedantic', 'pitiable', 'blister', 'repress', 'powerfully', 'well-balanced', 'famous', 'scapegoat', 'warm', 'wanton', 'foresight', 'loving', 'debasement', 'heartfelt', 'entertain', 'absence', 'bumpping', 'contemptuous', 'belligerence', 'inadvisably', 'manic', 'fervidly', 'hamper', 'nemesis', 'traitor', 'unpleasant', 'unity', 'hypocrisy', 'imaculate', 'itch', 'jaundiced', 'undermines', 'injudicious', 'stunning', 'traitorous', 'wasteful', 'hatefulness', 'subpoenas', 'prudent', 'sturdier', 'fury', 'burned', 'commendable', 'complimentary', 'masterpiece', 'misbehavior', 'poorest', 'chafe', 'rue', 'mashed', 'poignant', 'renunciation', 'weariness', 'remarkably', 'derogatory', 'peps', 'reformed', 'damage', 'incredibly', 'nefariously', 'generosity', 'outstanding', 'preferably', 'finagle', 'bemoan', 'celebrate', 'inconsiderate', 'outbursts', 'stunt', 'good', 'magnificence', 'infamously', 'impotent', 'falling', 'enjoying', 'outlaw', 'conceit', 'uncomfy', 'conscientious', 'cursed', 'irksomenesses', 'flawed', 'harmed', 'absurdness', 'dreamland', 'belittled', 'incongruous', 'damnation', 'ineptly', 'plunderer', 'competitive', 'dispute', 'persecution', 'waste', 'sobering', 'wisely', 'top', 'complaining', 'bumped', 'reachable', 'excessive', 'crazy', 'sever', 'beckon', 'weirdly', 'sack', 'congratulatory', 'junkyard', 'sty'}\n"
     ]
    }
   ],
   "source": [
    "#TASK 4(feature selection 3: Lexicon-based feature selection)\n",
    "# Joining both postive and negative word list into one single list\n",
    "\n",
    "lexicon = set (positive_words + negative_words)\n",
    "print(\"lexicon list:\", lexicon)\n",
    "\n"
   ]
  },
  {
   "cell_type": "code",
   "execution_count": 30,
   "id": "3fe6d719",
   "metadata": {},
   "outputs": [
    {
     "name": "stdout",
     "output_type": "stream",
     "text": [
      "(8066, 6786) \n",
      "\n",
      "(2690, 6786) \n",
      "\n"
     ]
    }
   ],
   "source": [
    "#Use the words in positive and negative word lists to extract unigram features from the dataset\n",
    "\n",
    "from sklearn.feature_extraction.text import CountVectorizer\n",
    "# set the n-gram range\n",
    "vectorizer = CountVectorizer(ngram_range = (1,1), vocabulary=lexicon)\n",
    "\n",
    "# create training data representation\n",
    "train_data_cv = vectorizer.fit_transform(train_text.values.astype('U'))\n",
    "print(train_data_cv.shape,\"\\n\") \n",
    "\n",
    "# create test data representation\n",
    "test_data_cv = vectorizer.transform(test_text.values.astype('U'))\n",
    "print(test_data_cv.shape,\"\\n\") \n"
   ]
  },
  {
   "cell_type": "code",
   "execution_count": 31,
   "id": "604166a4",
   "metadata": {},
   "outputs": [
    {
     "name": "stdout",
     "output_type": "stream",
     "text": [
      "Accuracy score(weighted):  0.7029739776951673\n",
      "Precision score(weighted):  0.6717887232406905\n",
      "Recall score(weighted):  0.7029739776951673\n",
      "F1 score(weighted):  0.6374023444581838\n",
      "Accuracy score(macro):  0.7029739776951673\n",
      "Precision score(macro):  0.612597421592595\n",
      "Recall score(macro):  0.4153912814241994\n",
      "F1 score(macro):  0.4065626274742628\n",
      "Accuracy score(micro):  0.7029739776951673\n",
      "Precision score(micro):  0.7029739776951673\n",
      "Recall score(micro):  0.7029739776951673\n",
      "F1 score(micro):  0.7029739776951673\n"
     ]
    }
   ],
   "source": [
    "#Train a model that uses these lexicon-based features.  \n",
    "#Report the number of features in the training set and the test set.\n",
    "# build model on the training data\n",
    "#training Naive Bayes on lexicon-based features\n",
    "naive_bayes = MultinomialNB()\n",
    "naive_bayes.fit(train_data_cv, y_train)\n",
    "predictions = naive_bayes.predict(test_data_cv)\n",
    "\n",
    "# weighted average\n",
    "print(\"Accuracy score(weighted): \", accuracy_score(y_test, predictions))\n",
    "print(\"Precision score(weighted): \", precision_score(y_test, predictions, average=\"weighted\", zero_division=0))\n",
    "print(\"Recall score(weighted): \", recall_score(y_test, predictions, average = \"weighted\", zero_division=0))\n",
    "print(\"F1 score(weighted): \", f1_score(y_test, predictions, average = \"weighted\", zero_division=0))\n",
    "\n",
    "# macro average\n",
    "print(\"Accuracy score(macro): \", accuracy_score(y_test, predictions))\n",
    "print(\"Precision score(macro): \", precision_score(y_test, predictions, average=\"macro\", zero_division=0))\n",
    "print(\"Recall score(macro): \", recall_score(y_test, predictions, average = \"macro\", zero_division=0))\n",
    "print(\"F1 score(macro): \", f1_score(y_test, predictions, average = \"macro\", zero_division=0))\n",
    "\n",
    "# micro average\n",
    "print(\"Accuracy score(micro): \", accuracy_score(y_test, predictions))\n",
    "print(\"Precision score(micro): \", precision_score(y_test, predictions, average=\"micro\", zero_division=0))\n",
    "print(\"Recall score(micro): \", recall_score(y_test, predictions, average = \"micro\", zero_division=0))\n",
    "print(\"F1 score(micro): \", f1_score(y_test, predictions, average = \"micro\", zero_division=0))\n",
    "\n"
   ]
  },
  {
   "cell_type": "code",
   "execution_count": 80,
   "id": "5ee4e87d",
   "metadata": {},
   "outputs": [],
   "source": [
    "#Task 6:Use mutual information to select the best 2000 unigram features\n",
    "# use original reviews for model building\n",
    "y_train = drug_train[\"three_way_rating\"]\n",
    "y_test = drug_test[\"three_way_rating\"]\n",
    "\n",
    "train_text = drug_train[\"review\"]\n",
    "test_text = drug_test[\"review\"]"
   ]
  },
  {
   "cell_type": "code",
   "execution_count": 81,
   "id": "f87d132a",
   "metadata": {},
   "outputs": [
    {
     "name": "stdout",
     "output_type": "stream",
     "text": [
      "Train feature space before filtering:  (8066,)\n",
      "Train feature space after filtering:  (8066, 2000)\n",
      "Test feature space before filtering:  (2690,)\n",
      "Test feature space after filtering:  (2690, 2000)\n"
     ]
    }
   ],
   "source": [
    "cv= CountVectorizer(ngram_range = (1,1))\n",
    "\n",
    "X_train_cv=cv.fit_transform(train_text)\n",
    "X_test_cv=cv.transform(test_text)\n",
    "selector = SelectKBest(chi2, k=2000)\n",
    "X_train_features_filtered_kbest_k = selector.fit_transform(X_train_cv, y_train)\n",
    "print (\"Train feature space before filtering: \", train_text.shape)\n",
    "print (\"Train feature space after filtering: \", X_train_features_filtered_kbest_k.shape)\n",
    "\n",
    "X_test_features_filtered_kbest_k = selector.transform(X_test_cv)\n",
    "print (\"Test feature space before filtering: \", test_text.shape)\n",
    "print (\"Test feature space after filtering: \", X_test_features_filtered_kbest_k.shape)"
   ]
  },
  {
   "cell_type": "code",
   "execution_count": 82,
   "id": "12bf77d1",
   "metadata": {},
   "outputs": [
    {
     "name": "stdout",
     "output_type": "stream",
     "text": [
      "Training instance indexes: [ 401  402  403 ... 8063 8064 8065]\n",
      "Test instance indexes: [   0    1    2 ... 3789 3790 3791]\n",
      "Report: \n",
      "Naive Bayes -> Accuracy: 0.7521685254027262, Precision: 0.7504113554824967, Recall: 0.7521685254027262, F1: 0.7418881657358843\n",
      "SVM -> Accuracy: 0.7149938042131351, Precision: 0.718560616420412, Recall: 0.7149938042131351, F1: 0.7124716544232282\n",
      "Logistic Regression -> Accuracy: 0.7323420074349443, Precision: 0.7190939197948962, Recall: 0.7323420074349443, F1: 0.7213322729433755\n",
      "\n",
      "Training instance indexes: [   0    1    2 ... 8063 8064 8065]\n",
      "Test instance indexes: [ 401  402  403 ... 4857 4858 4859]\n",
      "Report: \n",
      "Naive Bayes -> Accuracy: 0.7861128332300062, Precision: 0.7785446588561016, Recall: 0.7861128332300062, F1: 0.7729673562337255\n",
      "SVM -> Accuracy: 0.7482951022938623, Precision: 0.7280344618765338, Recall: 0.7482951022938623, F1: 0.7360783569933526\n",
      "Logistic Regression -> Accuracy: 0.7699938003719777, Precision: 0.7418247414082584, Recall: 0.7699938003719777, F1: 0.7502127105559118\n",
      "\n",
      "Training instance indexes: [   0    1    2 ... 8063 8064 8065]\n",
      "Test instance indexes: [ 802  803  804 ... 5925 5926 5927]\n",
      "Report: \n",
      "Naive Bayes -> Accuracy: 0.8202107873527589, Precision: 0.8122971510688883, Recall: 0.8202107873527589, F1: 0.8040411741561974\n",
      "SVM -> Accuracy: 0.7693738375697459, Precision: 0.7453811598690285, Recall: 0.7693738375697459, F1: 0.7532177262247436\n",
      "Logistic Regression -> Accuracy: 0.7842529448233106, Precision: 0.7407506106064082, Recall: 0.7842529448233106, F1: 0.7555942308060251\n",
      "\n",
      "Training instance indexes: [   0    1    2 ... 8063 8064 8065]\n",
      "Test instance indexes: [1203 1204 1205 ... 6994 6995 6996]\n",
      "Report: \n",
      "Naive Bayes -> Accuracy: 0.7830130192188469, Precision: 0.7687891435015257, Recall: 0.7830130192188469, F1: 0.765091455767535\n",
      "SVM -> Accuracy: 0.7668939863608184, Precision: 0.7390907429168482, Recall: 0.7668939863608184, F1: 0.7455284863683068\n",
      "Logistic Regression -> Accuracy: 0.7656540607563547, Precision: 0.7325943334149474, Recall: 0.7656540607563547, F1: 0.7357416971587236\n",
      "\n",
      "Training instance indexes: [   0    1    2 ... 6994 6995 6996]\n",
      "Test instance indexes: [1604 1605 1606 ... 8063 8064 8065]\n",
      "Report: \n",
      "Naive Bayes -> Accuracy: 0.7786732796032239, Precision: 0.7707378789027357, Recall: 0.7786732796032239, F1: 0.7565744244618721\n",
      "SVM -> Accuracy: 0.7569745815251085, Precision: 0.7307105705113092, Recall: 0.7569745815251085, F1: 0.729584332685714\n",
      "Logistic Regression -> Accuracy: 0.750154990700558, Precision: 0.7213034231591515, Recall: 0.750154990700558, F1: 0.7141794084805648\n",
      "\n"
     ]
    }
   ],
   "source": [
    "#Task 7,8 and 9: Train and evaluate a Naive Bayes classifier using cross-validation\n",
    "#Train a linear SVM classifier \n",
    "#Train a logistic regression classifier \n",
    "#Using only the training set, train a Naive Bayes classifier (MultinomialNB) using 5-fold cross-validation.\n",
    "#Use the unigram features obtained in Task 6.\n",
    "#Model comparison across K-fold cross validation\n",
    "from sklearn.naive_bayes import MultinomialNB\n",
    "from sklearn.svm import SVC\n",
    "from sklearn.linear_model import LogisticRegression\n",
    "from sklearn.metrics import accuracy_score, precision_score, recall_score,f1_score\n",
    "#from sklearn.model_selection import cross_validate\n",
    "import math\n",
    "from scipy import stats\n",
    "\n",
    "from sklearn.model_selection import StratifiedKFold, cross_val_score\n",
    "import numpy as np\n",
    "\n",
    "skf = StratifiedKFold(n_splits=5)\n",
    "\n",
    "#print(skf)\n",
    "metrics_svm=[]\n",
    "metrics_lr=[]\n",
    "metrics_nb=[]\n",
    "report_nb = []\n",
    "report_svm=[]\n",
    "report_lr = []\n",
    "\n",
    "for train_index, test_index in skf.split(X_train_features_filtered_kbest_k, y_train):\n",
    "    print(\"Training instance indexes:\", train_index)\n",
    "    print(\"Test instance indexes:\", test_index)\n",
    "    X_train = X_train_features_filtered_kbest_k[train_index]\n",
    "    X_test = X_train_features_filtered_kbest_k[test_index]\n",
    "    Y_train = y_train[train_index]\n",
    "    Y_test = y_train[test_index]\n",
    "\n",
    "    # for naivesbayes model\n",
    "    naive_bayes = MultinomialNB()\n",
    "    naive_bayes.fit(X_train, Y_train)\n",
    "    predictions_nb = naive_bayes.predict(X_test)\n",
    "    \n",
    "    accuracy_nb = accuracy_score(Y_test, predictions_nb)\n",
    "    precision_nb = precision_score(Y_test, predictions_nb, average='weighted')\n",
    "    recall_nb = recall_score(Y_test, predictions_nb, average='weighted')\n",
    "    f1_nb = f1_score(Y_test, predictions_nb, average = \"weighted\")\n",
    "    report_nb.append((accuracy_nb, precision_nb, recall_nb, f1_nb))\n",
    "\n",
    "    # for linear SVM\n",
    "    svm_classifier = SVC(kernel='linear')\n",
    "    svm_classifier.fit(X_train, Y_train)\n",
    "    predictions_svm = svm_classifier.predict(X_test)\n",
    "    \n",
    "    accuracy_svm = accuracy_score(Y_test, predictions_svm)\n",
    "    precision_svm = precision_score(Y_test, predictions_svm, average='weighted')\n",
    "    recall_svm = recall_score(Y_test, predictions_svm, average='weighted')\n",
    "    f1_svm = f1_score(Y_test, predictions_svm, average='weighted')\n",
    "    metrics_svm.append((accuracy_svm, precision_svm, recall_svm, f1_svm))\n",
    "    \n",
    "    #for logistic regression\n",
    "    LR = LogisticRegression(solver=\"liblinear\", penalty=\"l1\")\n",
    "    LR.fit(X_train, Y_train)\n",
    "    predictions_lr = LR.predict(X_test)\n",
    "\n",
    "    accuracy_lr = accuracy_score(Y_test, predictions_lr)\n",
    "    precision_lr = precision_score(Y_test, predictions_lr, average='weighted')\n",
    "    recall_lr = recall_score(Y_test, predictions_lr, average='weighted')\n",
    "    f1_lr = f1_score(Y_test, predictions_lr, average='weighted')\n",
    "    metrics_lr.append((accuracy_lr, precision_lr, recall_lr, f1_lr))\n",
    "    \n",
    "    print(f\"Report: \\n\"\n",
    "          f\"Naive Bayes -> Accuracy: {accuracy_nb}, Precision: {precision_nb}, Recall: {recall_nb}, F1: {f1_nb}\\n\"\n",
    "          f\"SVM -> Accuracy: {accuracy_svm}, Precision: {precision_svm}, Recall: {recall_svm}, F1: {f1_svm}\\n\"\n",
    "          f\"Logistic Regression -> Accuracy: {accuracy_lr}, Precision: {precision_lr}, Recall: {recall_lr}, F1: {f1_lr}\\n\")"
   ]
  },
  {
   "cell_type": "code",
   "execution_count": 83,
   "id": "465d5576",
   "metadata": {},
   "outputs": [
    {
     "name": "stdout",
     "output_type": "stream",
     "text": [
      "95% Confidence Interval for Naive Bayes Accuracy: 0.7628 to 0.8053\n",
      "95% Confidence Interval for SVM Accuracy: 0.7321 to 0.7705\n",
      "95% Confidence Interval for Logistic Regression Accuracy: 0.7431 to 0.7779\n"
     ]
    }
   ],
   "source": [
    "#Calculating the 95% confidence interval of the accuracy score \n",
    "#from the cross-validation results of naives bayes, SVM and Logisitic regression models\n",
    "\n",
    "# define function to calculate the confidence interval\n",
    "def calculate_confidence_interval(accuracy_scores):\n",
    "    mean_accuracy = np.mean(accuracy_scores)\n",
    "    std_accuracy = np.std(accuracy_scores, ddof=1)  \n",
    "    n = len(accuracy_scores)  \n",
    "    z = 1.959 \n",
    "    margin_of_error = z * (std_accuracy / np.sqrt(n))\n",
    "    confidence_interval = (mean_accuracy - margin_of_error, mean_accuracy + margin_of_error)\n",
    "    return confidence_interval\n",
    "\n",
    "# Extract accuracy scores for Naive Bayes, SVM, and Logistic Regression\n",
    "accuracy_scores_nb = [score[0] for score in report_nb]  \n",
    "accuracy_scores_svm = [score[0] for score in metrics_svm]  \n",
    "accuracy_scores_lr = [score[0] for score in metrics_lr]  \n",
    "\n",
    "# Calculate confidence intervals for each model\n",
    "ci_nb = calculate_confidence_interval(accuracy_scores_nb)\n",
    "ci_svm = calculate_confidence_interval(accuracy_scores_svm)\n",
    "ci_lr = calculate_confidence_interval(accuracy_scores_lr)\n",
    "\n",
    "print(f\"95% Confidence Interval for Naive Bayes Accuracy: {ci_nb[0]:.4f} to {ci_nb[1]:.4f}\")\n",
    "print(f\"95% Confidence Interval for SVM Accuracy: {ci_svm[0]:.4f} to {ci_svm[1]:.4f}\")\n",
    "print(f\"95% Confidence Interval for Logistic Regression Accuracy: {ci_lr[0]:.4f} to {ci_lr[1]:.4f}\")\n"
   ]
  },
  {
   "cell_type": "code",
   "execution_count": 87,
   "id": "0c6ee366",
   "metadata": {},
   "outputs": [
    {
     "name": "stdout",
     "output_type": "stream",
     "text": [
      "t-test result:  TtestResult(statistic=-6.17576558304914, pvalue=0.003491787507960148, df=4)\n",
      "t-test result:  TtestResult(statistic=-0.006472836077527954, pvalue=0.9951454153158164, df=4)\n",
      "t-test result:  TtestResult(statistic=5.972383379612333, pvalue=0.003948719486132399, df=4)\n"
     ]
    }
   ],
   "source": [
    "#Task 10: Model comparison using paired t-test\n",
    "#Use the ttest_ind function from scipy stats to compare the performance\n",
    "#between classifier pairs (based on overall weighted F1 from cross-validation folds) with significance level alpha = 0.05\n",
    "# Extract F1 scores from cross-validation folds for each model\n",
    "f1_scores_nb = [score[3] for score in report_nb] \n",
    "f1_scores_svm = [score[3] for score in metrics_svm]  \n",
    "f1_scores_lr = [score[3] for score in metrics_lr] \n",
    "\n",
    "\n",
    "# Significance level\n",
    "alpha = 0.05\n",
    "\n",
    "#Performing t-tests for all the models \n",
    "# LinearSVC vs. Naive Bayes\n",
    "ttest_svm_nb = stats.ttest_rel(f1_scores_svm, f1_scores_nb)\n",
    "# LinearSVC vs. Logistic Regression\n",
    "ttest_svm_lr = stats.ttest_rel(f1_scores_svm, f1_scores_lr)\n",
    "# Naive Bayes vs. Logistic Regression\n",
    "ttest_nb_lr = stats.ttest_rel(f1_scores_nb, f1_scores_lr)\n",
    "\n",
    "#printing the results\n",
    "print(\"t-test result: \", ttest_svm_nb) \n",
    "print(\"t-test result: \", ttest_svm_lr)\n",
    "print(\"t-test result: \", ttest_nb_lr)\n"
   ]
  },
  {
   "cell_type": "code",
   "execution_count": 88,
   "id": "7fb3789a",
   "metadata": {},
   "outputs": [
    {
     "name": "stdout",
     "output_type": "stream",
     "text": [
      "Significant difference between LinearSVC and Naive Bayes (p-value: 0.0035)\n",
      "No significant difference between LinearSVC and Logistic Regression (p-value: 0.9951)\n",
      "Significant difference between Naive Bayes and Logistic Regression (p-value: 0.0039)\n"
     ]
    }
   ],
   "source": [
    "#Results interpretation for Task 10\n",
    "def interpret_ttest_result(ttest_result, model1, model2):\n",
    "    t_stat, p_value = ttest_result\n",
    "    if p_value < alpha:\n",
    "        return f\"Significant difference between {model1} and {model2} (p-value: {p_value:.4f})\"\n",
    "    else:\n",
    "        return f\"No significant difference between {model1} and {model2} (p-value: {p_value:.4f})\"\n",
    "\n",
    "# Printing results\n",
    "print(interpret_ttest_result(ttest_svm_nb, \"LinearSVC\", \"Naive Bayes\"))\n",
    "print(interpret_ttest_result(ttest_svm_lr, \"LinearSVC\", \"Logistic Regression\"))\n",
    "print(interpret_ttest_result(ttest_nb_lr, \"Naive Bayes\", \"Logistic Regression\"))\n"
   ]
  },
  {
   "cell_type": "code",
   "execution_count": 89,
   "id": "0bc920e9",
   "metadata": {},
   "outputs": [
    {
     "name": "stderr",
     "output_type": "stream",
     "text": [
      "C:\\Users\\Precious Olalere\\anaconda3\\Lib\\site-packages\\sklearn\\svm\\_base.py:1242: ConvergenceWarning: Liblinear failed to converge, increase the number of iterations.\n",
      "  warnings.warn(\n",
      "C:\\Users\\Precious Olalere\\anaconda3\\Lib\\site-packages\\sklearn\\svm\\_base.py:1242: ConvergenceWarning: Liblinear failed to converge, increase the number of iterations.\n",
      "  warnings.warn(\n",
      "C:\\Users\\Precious Olalere\\anaconda3\\Lib\\site-packages\\sklearn\\svm\\_base.py:1242: ConvergenceWarning: Liblinear failed to converge, increase the number of iterations.\n",
      "  warnings.warn(\n",
      "C:\\Users\\Precious Olalere\\anaconda3\\Lib\\site-packages\\sklearn\\svm\\_base.py:1242: ConvergenceWarning: Liblinear failed to converge, increase the number of iterations.\n",
      "  warnings.warn(\n",
      "C:\\Users\\Precious Olalere\\anaconda3\\Lib\\site-packages\\sklearn\\svm\\_base.py:1242: ConvergenceWarning: Liblinear failed to converge, increase the number of iterations.\n",
      "  warnings.warn(\n"
     ]
    },
    {
     "name": "stdout",
     "output_type": "stream",
     "text": [
      "Best regularization parameter C: 0.1\n",
      "Weighted Precision of the best model on test set: 0.7112\n",
      "Weighted Recall of the best model on test set: 0.7465\n",
      "Weighted F1 Score of the best model on test set: 0.7179\n"
     ]
    }
   ],
   "source": [
    "#Task 11: Hyperparameter tuning\n",
    "\n",
    "from sklearn.model_selection import GridSearchCV\n",
    "from sklearn.metrics import make_scorer, precision_score, recall_score, f1_score\n",
    "from sklearn.svm import LinearSVC\n",
    "\n",
    "# Defining the parameter grid for C values\n",
    "param_grid = {'C': [0.01, 0.1, 1, 10, 100, 1000]}\n",
    "\n",
    "# Initializing the LinearSVC model\n",
    "svm_classifier = LinearSVC(dual=False, max_iter=10000)\n",
    "grid_search = GridSearchCV(svm_classifier, param_grid, cv=5, scoring='f1_weighted')  \n",
    "grid_search.fit(X_train_features_filtered_kbest_k, y_train)\n",
    "\n",
    "# Best regularization (C) value\n",
    "best_C = grid_search.best_params_['C']\n",
    "print(f\"Best regularization parameter C: {best_C}\")\n",
    "\n",
    "# Using the best model to make predictions on the test set\n",
    "best_model = grid_search.best_estimator_\n",
    "y_pred_test = best_model.predict(X_test_features_filtered_kbest_k)  \n",
    "\n",
    "# Calculating the weighted precision, recall, and F1 score for the best model\n",
    "precision_test = precision_score(y_test, y_pred_test, average='weighted')\n",
    "recall_test = recall_score(y_test, y_pred_test, average='weighted')\n",
    "f1_test = f1_score(y_test, y_pred_test, average='weighted')\n",
    "\n",
    "# Printing the results\n",
    "print(f\"Weighted Precision of the best model on test set: {precision_test:.4f}\")\n",
    "print(f\"Weighted Recall of the best model on test set: {recall_test:.4f}\")\n",
    "print(f\"Weighted F1 Score of the best model on test set: {f1_test:.4f}\")\n"
   ]
  },
  {
   "cell_type": "code",
   "execution_count": null,
   "id": "59d92a1c",
   "metadata": {},
   "outputs": [],
   "source": []
  }
 ],
 "metadata": {
  "kernelspec": {
   "display_name": "Python 3 (ipykernel)",
   "language": "python",
   "name": "python3"
  },
  "language_info": {
   "codemirror_mode": {
    "name": "ipython",
    "version": 3
   },
   "file_extension": ".py",
   "mimetype": "text/x-python",
   "name": "python",
   "nbconvert_exporter": "python",
   "pygments_lexer": "ipython3",
   "version": "3.11.4"
  }
 },
 "nbformat": 4,
 "nbformat_minor": 5
}
